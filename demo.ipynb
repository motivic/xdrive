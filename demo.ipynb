{
 "cells": [
  {
   "cell_type": "markdown",
   "metadata": {},
   "source": [
    "## Overview of pdrive package\n",
    "\n",
    "This package puts programs and data on a portable \"pdrive\" rather than an on \n",
    "the AWS server. The \"pdrive\" can then be moved between different types of \n",
    "server including spot instances. Ths saves 100% of the cost of setting up data and programs by using free tier\n",
    "servers; and 80% of the cost of GPUs by providing persistent storage for spot\n",
    "instances\n",
    "\n",
    "The examples here show how to setup and work with various types of server."
   ]
  },
  {
   "cell_type": "markdown",
   "metadata": {},
   "source": [
    "## Imports"
   ]
  },
  {
   "cell_type": "code",
   "execution_count": 4,
   "metadata": {
    "ExecuteTime": {
     "end_time": "2017-02-28T16:39:09.216725",
     "start_time": "2017-02-28T16:39:09.097128"
    },
    "collapsed": false
   },
   "outputs": [],
   "source": [
    "from ipstartup import *\n",
    "import aws\n",
    "import server\n",
    "import apps\n",
    "from pdrive import Pdrive\n",
    "import fabric.api as fab\n",
    "from config import user, keyfile\n",
    "fab.env.user = user\n",
    "fab.output['everything'] = True"
   ]
  },
  {
   "cell_type": "markdown",
   "metadata": {},
   "source": [
    "## Setup configuration\n",
    "\n",
    "Setup AWS account\n",
    "* create an AWS account\n",
    "* create an AWS config file and AWS credentials file\n",
    "* request a limit increase to access a GPU\n",
    "\n",
    "Adapt aws/config.py as required (or just accept the defaults)\n",
    "* check file locations\n",
    "* check region and AMIs if eu-west not appropriate\n",
    "* add any additional server types you might need\n",
    "\n",
    "Setup credentials\n",
    "* create _creds.py file in your python path with plain text, unhashed password:\n",
    "  - notebook=dict(password=\"dl_course\")\n",
    "* setup key and security group using scripts below"
   ]
  },
  {
   "cell_type": "code",
   "execution_count": null,
   "metadata": {
    "ExecuteTime": {
     "end_time": "2017-02-28T17:30:43.800330",
     "start_time": "2017-02-28T17:30:42.324067"
    },
    "collapsed": false
   },
   "outputs": [],
   "source": [
    "# create a key\n",
    "try:\n",
    "    key = aws.ec2.create_key_pair(KeyName=\"key\")\n",
    "    with open(keyfile, \"w\") as f:\n",
    "        f.write(key.key_material)\n",
    "except Exception as e:\n",
    "    log.warning(e)"
   ]
  },
  {
   "cell_type": "code",
   "execution_count": null,
   "metadata": {
    "ExecuteTime": {
     "end_time": "2017-02-28T17:32:24.116841",
     "start_time": "2017-02-28T17:32:23.834824"
    },
    "collapsed": false,
    "scrolled": true
   },
   "outputs": [],
   "source": [
    "# create a security group\n",
    "try:\n",
    "  sec = aws.ec2.create_security_group(GroupName=\"simon\", \n",
    "                                Description=\"wordpress, jupyter, ssh\")\n",
    "  sec.authorize_ingress(\n",
    "      IpPermissions=[dict(IpProtocol='tcp', FromPort=80, ToPort=80),\n",
    "                     dict(IpProtocol='tcp', FromPort=443, ToPort=443),\n",
    "                     dict(IpProtocol='tcp', FromPort=8888, ToPort=8888),\n",
    "                     dict(IpProtocol='tcp', FromPort=22, ToPort=22)])\n",
    "except Exception as e:\n",
    "    log.warning(e)"
   ]
  },
  {
   "cell_type": "markdown",
   "metadata": {},
   "source": [
    "## Setup programs and data using a free instance"
   ]
  },
  {
   "cell_type": "code",
   "execution_count": null,
   "metadata": {
    "collapsed": true
   },
   "outputs": [],
   "source": [
    "# create a server called \"kate\" with a free instance; and a volume called \"fastai\" mounted at /v1 to hold programs and data\n",
    "server.create(\"kate\", itype=\"free\", pdrive=\"fastai\", pdrivesize=10)"
   ]
  },
  {
   "cell_type": "markdown",
   "metadata": {
    "collapsed": true
   },
   "source": [
    "It can take several minutes to pull a large docker image or data file; and doing this via a notebook either produces excessive output or a silent wait. Therefore carry out these steps via SSH as it is easier to monitor progress. \n",
    "* download data to /v1 (as required)\n",
    "* docker pull simonm3/fastai (or other docker image)"
   ]
  },
  {
   "cell_type": "code",
   "execution_count": null,
   "metadata": {
    "collapsed": true
   },
   "outputs": [],
   "source": [
    "# run the notebook. config read from /v1/.jupyter/jupyter_notebook_config.py so password can be changed.\n",
    "apps.run_fastai()"
   ]
  },
  {
   "cell_type": "markdown",
   "metadata": {},
   "source": [
    "Optionally you can install some additional tools from github projects"
   ]
  },
  {
   "cell_type": "code",
   "execution_count": null,
   "metadata": {
    "collapsed": false
   },
   "outputs": [],
   "source": [
    "# install some additional tools on /v1\n",
    "fab.sudo(\"yum install -y -q git\")\n",
    "with fab.cd(\"/v1\"):\n",
    "  apps.install_github(\"simonm3\", [\"basics\"])\n",
    "# add basics/pathconfig.pth to pythonpath\n",
    "with fab.quiet():\n",
    "  fab.run(\"docker exec notebook python /host/basics/pathconfig.py\")"
   ]
  },
  {
   "cell_type": "markdown",
   "metadata": {},
   "source": [
    "You can test the fastai notebook at the \"kate\" ip address port 8888. All of the setup time so far has used free instances and free storage. Next step is to terminate this instance. All data and programs will be preserved in a snapshot that we can later attach to a high performance instance such as a GPU."
   ]
  },
  {
   "cell_type": "code",
   "execution_count": null,
   "metadata": {
    "collapsed": true
   },
   "outputs": [],
   "source": [
    "server.terminate(\"kate\")"
   ]
  },
  {
   "cell_type": "markdown",
   "metadata": {},
   "source": [
    "## Work with the programs and data using a GPU"
   ]
  },
  {
   "cell_type": "markdown",
   "metadata": {},
   "source": [
    "Create a spot GPU server called \"sarah\" with the same data and programs as before"
   ]
  },
  {
   "cell_type": "code",
   "execution_count": null,
   "metadata": {
    "collapsed": true
   },
   "outputs": [],
   "source": [
    "server.create(\"sarah\", itype=\"gpu\", spot=True, pdrive=\"fastai\")"
   ]
  },
  {
   "cell_type": "markdown",
   "metadata": {},
   "source": [
    "Work with \"sarah\" ip address port 8888. When you have finished working then terminate the server. Note that calling server.terminate(\"sarah\") saves the pdrive as a snapshot including all data and programs. On termination by AWS (e.g. if outbid on spot instance) or via the AWS menu, the volume will remain but will not automatically be saved as a snapshot. In this case manually save as snapshot and delete the volume. It would be possible to automate this by capturing AWS termination notices but this is not included currently."
   ]
  },
  {
   "cell_type": "code",
   "execution_count": null,
   "metadata": {
    "collapsed": true
   },
   "outputs": [],
   "source": [
    "server.terminate(\"sarah\")"
   ]
  },
  {
   "cell_type": "markdown",
   "metadata": {},
   "source": [
    "## Create more servers"
   ]
  },
  {
   "cell_type": "markdown",
   "metadata": {},
   "source": [
    "It is possible to create servers without a pdrive. For example you may want to create a server with a static IP address running wordpress.\n",
    "* request an elastic ip address from AWS (this is free as long as attached to a running instance)\n",
    "* run script below"
   ]
  },
  {
   "cell_type": "code",
   "execution_count": null,
   "metadata": {
    "collapsed": true
   },
   "outputs": [],
   "source": [
    "instance = server.create(\"sm1\")\n",
    "\n",
    "# attach to the first elastic ip address on your account\n",
    "fab.env.host_string = aws.get_ips()[0]\n",
    "aws.client.associate_address(InstanceId=instance.instance_id,\n",
    "                             PublicIp=fab.env.host_string)\n",
    "server.wait_ssh()\n",
    "apps.install_docker()\n",
    "apps.install_wordpress()"
   ]
  },
  {
   "cell_type": "markdown",
   "metadata": {},
   "source": [
    "## Work with an existing pdrive\n",
    "\n",
    "Typically you will create a server and pdrive at the same time. However sometimes you may want to attach the pdrive to an existing instance. This is also possible with the commands below."
   ]
  },
  {
   "cell_type": "code",
   "execution_count": null,
   "metadata": {
    "collapsed": true
   },
   "outputs": [],
   "source": [
    "pdrive = Pdrive(\"fastai\")\n",
    "pdrive.connect(\"sm1\")"
   ]
  },
  {
   "cell_type": "markdown",
   "metadata": {},
   "source": [
    "The pdrive is now attached as /v1 to the server sm1. In this case docker is not installed or started automatically. You can work with /v1 as required. When finished disconnect."
   ]
  },
  {
   "cell_type": "code",
   "execution_count": null,
   "metadata": {
    "collapsed": true
   },
   "outputs": [],
   "source": [
    "pdrive.disconnect()"
   ]
  },
  {
   "cell_type": "markdown",
   "metadata": {},
   "source": [
    "## Utilities"
   ]
  },
  {
   "cell_type": "markdown",
   "metadata": {},
   "source": [
    "As a bonus there are a number of utilities available as below. Also, for convenience, all resources (instances, volumes, snapshots) can be referred to by name rather than the amazon 20 character id."
   ]
  },
  {
   "cell_type": "code",
   "execution_count": null,
   "metadata": {
    "collapsed": false
   },
   "outputs": [],
   "source": [
    "# get a resource by name\n",
    "aws.get(\"sm1\")"
   ]
  },
  {
   "cell_type": "code",
   "execution_count": null,
   "metadata": {
    "collapsed": false
   },
   "outputs": [],
   "source": [
    "# get all resources (instances, volumes, snapshots)\n",
    "aws.get(unique=False)"
   ]
  },
  {
   "cell_type": "code",
   "execution_count": 5,
   "metadata": {
    "collapsed": false
   },
   "outputs": [
    {
     "name": "stderr",
     "output_type": "stream",
     "text": [
      "[root:INFO]:starting (cellevents.py\\30, time=15:30)\n"
     ]
    },
    {
     "data": {
      "text/html": [
       "<div>\n",
       "<table border=\"1\" class=\"dataframe\">\n",
       "  <thead>\n",
       "    <tr style=\"text-align: right;\">\n",
       "      <th></th>\n",
       "      <th>name</th>\n",
       "      <th>instance_id</th>\n",
       "      <th>image</th>\n",
       "      <th>type</th>\n",
       "      <th>state</th>\n",
       "      <th>ip</th>\n",
       "    </tr>\n",
       "  </thead>\n",
       "  <tbody>\n",
       "    <tr>\n",
       "      <th>0</th>\n",
       "      <td>sm1</td>\n",
       "      <td>i-0e278aadbb0395c13</td>\n",
       "      <td>ami-c51e3eb6</td>\n",
       "      <td>t2.micro</td>\n",
       "      <td>running</td>\n",
       "      <td>34.248.84.101</td>\n",
       "    </tr>\n",
       "  </tbody>\n",
       "</table>\n",
       "</div>"
      ],
      "text/plain": [
       "  name          instance_id         image      type    state             ip\n",
       "0  sm1  i-0e278aadbb0395c13  ami-c51e3eb6  t2.micro  running  34.248.84.101"
      ]
     },
     "execution_count": 5,
     "metadata": {},
     "output_type": "execute_result"
    },
    {
     "name": "stdout",
     "output_type": "stream",
     "text": [
      "time: 3.68 s\n"
     ]
    }
   ],
   "source": [
    "# show instances used\n",
    "aws.get_instances()"
   ]
  },
  {
   "cell_type": "code",
   "execution_count": 6,
   "metadata": {
    "collapsed": false
   },
   "outputs": [
    {
     "name": "stderr",
     "output_type": "stream",
     "text": [
      "[root:INFO]:starting (cellevents.py\\30, time=15:32)\n"
     ]
    },
    {
     "name": "stdout",
     "output_type": "stream",
     "text": [
      "[34.248.84.101] run: docker exec meetup ps -eo args | grep python || true\n",
      "[34.248.84.101] out: python3\n",
      "[34.248.84.101] out: python meetup/meetup.py\n",
      "[34.248.84.101] out: \n",
      "\n",
      "[34.248.84.101] run: docker exec wordpress_wordpress_1 ps -eo args | grep python || true\n",
      "[34.248.84.101] run: docker exec wordpress_db_1 ps -eo args | grep python || true\n"
     ]
    },
    {
     "data": {
      "text/html": [
       "<div>\n",
       "<table border=\"1\" class=\"dataframe\">\n",
       "  <thead>\n",
       "    <tr style=\"text-align: right;\">\n",
       "      <th></th>\n",
       "      <th>container</th>\n",
       "      <th>task</th>\n",
       "    </tr>\n",
       "  </thead>\n",
       "  <tbody>\n",
       "    <tr>\n",
       "      <th>0</th>\n",
       "      <td>meetup</td>\n",
       "      <td>python3</td>\n",
       "    </tr>\n",
       "    <tr>\n",
       "      <th>1</th>\n",
       "      <td>meetup</td>\n",
       "      <td>python meetup/meetup.py</td>\n",
       "    </tr>\n",
       "  </tbody>\n",
       "</table>\n",
       "</div>"
      ],
      "text/plain": [
       "  container                     task\n",
       "0    meetup                  python3\n",
       "1    meetup  python meetup/meetup.py"
      ]
     },
     "execution_count": 6,
     "metadata": {},
     "output_type": "execute_result"
    },
    {
     "name": "stdout",
     "output_type": "stream",
     "text": [
      "time: 4.34 s\n"
     ]
    }
   ],
   "source": [
    "# show python tasks running in containers\n",
    "fab.env.host_string=aws.get(\"sm1\").public_ip_address\n",
    "server.get_tasks(\"python\")"
   ]
  },
  {
   "cell_type": "code",
   "execution_count": null,
   "metadata": {
    "collapsed": false
   },
   "outputs": [],
   "source": [
    "# run a python program in a container\n",
    "apps.run_python(\"meetup\")"
   ]
  },
  {
   "cell_type": "code",
   "execution_count": null,
   "metadata": {
    "collapsed": false
   },
   "outputs": [],
   "source": [
    "# show all tasks running in containers\n",
    "server.get_tasks()"
   ]
  },
  {
   "cell_type": "code",
   "execution_count": null,
   "metadata": {
    "collapsed": true
   },
   "outputs": [],
   "source": [
    "# set docker location to pdrive\n",
    "apps.set_docker_folder(\"/v1\")"
   ]
  },
  {
   "cell_type": "code",
   "execution_count": null,
   "metadata": {
    "collapsed": true
   },
   "outputs": [],
   "source": [
    "# set docker location to boot drive\n",
    "apps.set_docker_folder()"
   ]
  }
 ],
 "metadata": {
  "anaconda-cloud": {},
  "kernelspec": {
   "display_name": "Python [conda root]",
   "language": "python",
   "name": "conda-root-py"
  },
  "language_info": {
   "codemirror_mode": {
    "name": "ipython",
    "version": 3
   },
   "file_extension": ".py",
   "mimetype": "text/x-python",
   "name": "python",
   "nbconvert_exporter": "python",
   "pygments_lexer": "ipython3",
   "version": "3.5.2"
  },
  "notify_time": "5"
 },
 "nbformat": 4,
 "nbformat_minor": 1
}
