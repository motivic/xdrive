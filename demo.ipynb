{
 "cells": [
  {
   "cell_type": "markdown",
   "metadata": {},
   "source": [
    "## Examples\n",
    "\n",
    "The main purpose of this package is to add persistent data and program environment to AWS spot instances. AWS spot instances offer an 80% cost saving versus on-demand GPU instances. \n",
    "\n",
    "The examples here show how to setup and work with various types of server."
   ]
  },
  {
   "cell_type": "markdown",
   "metadata": {},
   "source": [
    "## Imports"
   ]
  },
  {
   "cell_type": "code",
   "execution_count": 2,
   "metadata": {
    "ExecuteTime": {
     "end_time": "2017-02-28T16:39:09.216725",
     "start_time": "2017-02-28T16:39:09.097128"
    },
    "collapsed": false
   },
   "outputs": [],
   "source": [
    "from ipstartup import *\n",
    "import aws\n",
    "import server\n",
    "import apps\n",
    "from pdrive import Pdrive\n",
    "import fabric.api as fab\n",
    "from config import user, keyfile\n",
    "fab.env.user = user\n",
    "fab.output['everything'] = True"
   ]
  },
  {
   "cell_type": "markdown",
   "metadata": {},
   "source": [
    "## Setup key and security group\n",
    "\n",
    "It is assumed you already have an AWS account; config file; credentials file; and have requested a limit increase to access a GPU. This section just creates a key \"key\" and security group \"simon\"."
   ]
  },
  {
   "cell_type": "code",
   "execution_count": 3,
   "metadata": {
    "ExecuteTime": {
     "end_time": "2017-02-28T17:30:43.800330",
     "start_time": "2017-02-28T17:30:42.324067"
    },
    "collapsed": false
   },
   "outputs": [
    {
     "name": "stderr",
     "output_type": "stream",
     "text": [
      "[root:INFO]:starting (cellevents.py\\30, time=19:21)\n",
      "[root:WARNING]:An error occurred (InvalidKeyPair.Duplicate) when calling the CreateKeyPair operation: The keypair 'key' already exists. (<ipython-input-3-13fb431056c8>\\7, time=19:21)\n"
     ]
    },
    {
     "name": "stdout",
     "output_type": "stream",
     "text": [
      "time: 1.8 s\n"
     ]
    }
   ],
   "source": [
    "# create a key\n",
    "try:\n",
    "    key = aws.ec2.create_key_pair(KeyName=\"key\")\n",
    "    with open(keyfile, \"w\") as f:\n",
    "        f.write(key.key_material)\n",
    "except Exception as e:\n",
    "    log.warning(e)"
   ]
  },
  {
   "cell_type": "code",
   "execution_count": 4,
   "metadata": {
    "ExecuteTime": {
     "end_time": "2017-02-28T17:32:24.116841",
     "start_time": "2017-02-28T17:32:23.834824"
    },
    "collapsed": false,
    "scrolled": true
   },
   "outputs": [
    {
     "name": "stderr",
     "output_type": "stream",
     "text": [
      "[root:INFO]:starting (cellevents.py\\30, time=19:21)\n",
      "[root:WARNING]:An error occurred (InvalidGroup.Duplicate) when calling the CreateSecurityGroup operation: The security group 'simon' already exists for VPC 'vpc-b7e73cd3' (<ipython-input-4-2daf71c23845>\\11, time=19:21)\n"
     ]
    },
    {
     "name": "stdout",
     "output_type": "stream",
     "text": [
      "time: 819 ms\n"
     ]
    }
   ],
   "source": [
    "# create a security group\n",
    "try:\n",
    "  sec = aws.ec2.create_security_group(GroupName=\"simon\", \n",
    "                                Description=\"wordpress, jupyter, ssh\")\n",
    "  sec.authorize_ingress(\n",
    "      IpPermissions=[dict(IpProtocol='tcp', FromPort=80, ToPort=80),\n",
    "                     dict(IpProtocol='tcp', FromPort=443, ToPort=443),\n",
    "                     dict(IpProtocol='tcp', FromPort=8888, ToPort=8888),\n",
    "                     dict(IpProtocol='tcp', FromPort=22, ToPort=22)])\n",
    "except Exception as e:\n",
    "    log.warning(e)"
   ]
  },
  {
   "cell_type": "markdown",
   "metadata": {},
   "source": [
    "## Create a new instance with a pdrive for programs and data"
   ]
  },
  {
   "cell_type": "code",
   "execution_count": 51,
   "metadata": {
    "collapsed": true
   },
   "outputs": [
    {
     "name": "stderr",
     "output_type": "stream",
     "text": [
      "[root:INFO]:starting (cellevents.py\\30, time=21:03)\n",
      "[root:WARNING]:no snapshots found (pdrive.py\\161, time=21:03)\n",
      "[root:INFO]:waiting for instance running (server.py\\64, time=21:03)\n",
      "[root:INFO]:instance kate running at 34.248.174.161 (server.py\\75, time=21:03)\n",
      "[root:INFO]:waiting for ssh (server.py\\138, time=21:03)\n",
      "[root:INFO]:ssh connected (server.py\\147, time=21:04)\n"
     ]
    },
    {
     "name": "stdout",
     "output_type": "stream",
     "text": [
      "[34.248.174.161] sudo: yum install docker -y\n",
      "[34.248.174.161] out: Loaded plugins: priorities, update-motd, upgrade-helper\n",
      "[34.248.174.161] out: Resolving Dependencies\n",
      "[34.248.174.161] out: --> Running transaction check\n",
      "[34.248.174.161] out: ---> Package docker.x86_64 0:1.12.6-1.17.amzn1 will be installed\n",
      "[34.248.174.161] out: --> Processing Dependency: xfsprogs for package: docker-1.12.6-1.17.amzn1.x86_64\n",
      "[34.248.174.161] out: --> Running transaction check\n",
      "[34.248.174.161] out: ---> Package xfsprogs.x86_64 0:3.2.2-2.20.amzn1 will be installed\n",
      "[34.248.174.161] out: --> Finished Dependency Resolution\n",
      "[34.248.174.161] out: \n",
      "[34.248.174.161] out: Dependencies Resolved\n",
      "[34.248.174.161] out: \n",
      "[34.248.174.161] out: ================================================================================\n",
      "[34.248.174.161] out:  Package        Arch         Version                   Repository          Size\n",
      "[34.248.174.161] out: ================================================================================\n",
      "[34.248.174.161] out: Installing:\n",
      "[34.248.174.161] out:  docker         x86_64       1.12.6-1.17.amzn1         amzn-updates        24 M\n",
      "[34.248.174.161] out: Installing for dependencies:\n",
      "[34.248.174.161] out:  xfsprogs       x86_64       3.2.2-2.20.amzn1          amzn-main          1.7 M\n",
      "[34.248.174.161] out: \n",
      "[34.248.174.161] out: Transaction Summary\n",
      "[34.248.174.161] out: ================================================================================\n",
      "[34.248.174.161] out: Install  1 Package (+1 Dependent package)\n",
      "[34.248.174.161] out: \n",
      "[34.248.174.161] out: Total download size: 26 M\n",
      "[34.248.174.161] out: Installed size: 84 M\n",
      "[34.248.174.161] out: Downloading packages:\n",
      "[34.248.174.161] out: (1/2): docker-1.12.6-1 (58%) 63% [=======-    ]  0.0 B/s |  15 MB     --:-- ETA \n",
      "[34.248.174.161] out: \n",
      "[34.248.174.161] out: (1/2): docker-1.12.6-1.17.amzn1.x86_64.rpm               |  24 MB     00:00     \n",
      "[34.248.174.161] out: \n",
      "[34.248.174.161] out: (2/2): xfsprogs-3.2.2-2.20.amzn1.x86_64.rpm              | 1.7 MB     00:00     \n",
      "[34.248.174.161] out: --------------------------------------------------------------------------------\n",
      "[34.248.174.161] out: Total                                               47 MB/s |  26 MB  00:00     \n",
      "[34.248.174.161] out: Running transaction check\n",
      "[34.248.174.161] out: Running transaction test\n",
      "[34.248.174.161] out: Transaction test succeeded\n",
      "[34.248.174.161] out: Running transaction\n",
      "[34.248.174.161] out: \n",
      "[34.248.174.161] out:   Installing : xfsprogs-3.2.2-2.20.amzn1.x8 [                             ] 1/2\n",
      "[34.248.174.161] out:   Installing : xfsprogs-3.2.2-2.20.amzn1.x8 [#                            ] 1/2\n",
      "[34.248.174.161] out:   Installing : xfsprogs-3.2.2-2.20.amzn1.x8 [##                           ] 1/2\n",
      "[34.248.174.161] out:   Installing : xfsprogs-3.2.2-2.20.amzn1.x8 [###                          ] 1/2\n",
      "[34.248.174.161] out:   Installing : xfsprogs-3.2.2-2.20.amzn1.x8 [####                         ] 1/2\n",
      "[34.248.174.161] out:   Installing : xfsprogs-3.2.2-2.20.amzn1.x8 [#####                        ] 1/2\n",
      "[34.248.174.161] out:   Installing : xfsprogs-3.2.2-2.20.amzn1.x8 [######                       ] 1/2\n",
      "[34.248.174.161] out:   Installing : xfsprogs-3.2.2-2.20.amzn1.x8 [#######                      ] 1/2\n",
      "[34.248.174.161] out:   Installing : xfsprogs-3.2.2-2.20.amzn1.x8 [########                     ] 1/2\n",
      "[34.248.174.161] out:   Installing : xfsprogs-3.2.2-2.20.amzn1.x8 [#########                    ] 1/2\n",
      "[34.248.174.161] out:   Installing : xfsprogs-3.2.2-2.20.amzn1.x8 [##########                   ] 1/2\n",
      "[34.248.174.161] out:   Installing : xfsprogs-3.2.2-2.20.amzn1.x8 [###########                  ] 1/2\n",
      "[34.248.174.161] out:   Installing : xfsprogs-3.2.2-2.20.amzn1.x8 [############                 ] 1/2\n",
      "[34.248.174.161] out:   Installing : xfsprogs-3.2.2-2.20.amzn1.x8 [#############                ] 1/2\n",
      "[34.248.174.161] out:   Installing : xfsprogs-3.2.2-2.20.amzn1.x8 [##############               ] 1/2\n",
      "[34.248.174.161] out:   Installing : xfsprogs-3.2.2-2.20.amzn1.x8 [###############              ] 1/2\n",
      "[34.248.174.161] out:   Installing : xfsprogs-3.2.2-2.20.amzn1.x8 [################             ] 1/2\n",
      "[34.248.174.161] out:   Installing : xfsprogs-3.2.2-2.20.amzn1.x8 [#################            ] 1/2\n",
      "[34.248.174.161] out:   Installing : xfsprogs-3.2.2-2.20.amzn1.x8 [##################           ] 1/2\n",
      "[34.248.174.161] out:   Installing : xfsprogs-3.2.2-2.20.amzn1.x8 [###################          ] 1/2\n",
      "[34.248.174.161] out:   Installing : xfsprogs-3.2.2-2.20.amzn1.x8 [####################         ] 1/2\n",
      "[34.248.174.161] out:   Installing : xfsprogs-3.2.2-2.20.amzn1.x8 [#####################        ] 1/2\n",
      "[34.248.174.161] out:   Installing : xfsprogs-3.2.2-2.20.amzn1.x8 [######################       ] 1/2\n",
      "[34.248.174.161] out:   Installing : xfsprogs-3.2.2-2.20.amzn1.x8 [#######################      ] 1/2\n",
      "[34.248.174.161] out:   Installing : xfsprogs-3.2.2-2.20.amzn1.x8 [########################     ] 1/2\n",
      "[34.248.174.161] out:   Installing : xfsprogs-3.2.2-2.20.amzn1.x8 [#########################    ] 1/2\n",
      "[34.248.174.161] out:   Installing : xfsprogs-3.2.2-2.20.amzn1.x8 [##########################   ] 1/2\n",
      "[34.248.174.161] out:   Installing : xfsprogs-3.2.2-2.20.amzn1.x8 [###########################  ] 1/2\n",
      "[34.248.174.161] out:   Installing : xfsprogs-3.2.2-2.20.amzn1.x8 [############################ ] 1/2\n",
      "[34.248.174.161] out:   Installing : xfsprogs-3.2.2-2.20.amzn1.x86_64                             1/2 \n",
      "[34.248.174.161] out: \n",
      "[34.248.174.161] out:   Installing : docker-1.12.6-1.17.amzn1.x86 [                             ] 2/2\n",
      "[34.248.174.161] out:   Installing : docker-1.12.6-1.17.amzn1.x86 [#                            ] 2/2\n",
      "[34.248.174.161] out:   Installing : docker-1.12.6-1.17.amzn1.x86 [##                           ] 2/2\n",
      "[34.248.174.161] out:   Installing : docker-1.12.6-1.17.amzn1.x86 [###                          ] 2/2\n",
      "[34.248.174.161] out:   Installing : docker-1.12.6-1.17.amzn1.x86 [####                         ] 2/2\n",
      "[34.248.174.161] out:   Installing : docker-1.12.6-1.17.amzn1.x86 [#####                        ] 2/2\n",
      "[34.248.174.161] out:   Installing : docker-1.12.6-1.17.amzn1.x86 [######                       ] 2/2\n",
      "[34.248.174.161] out:   Installing : docker-1.12.6-1.17.amzn1.x86 [#######                      ] 2/2\n",
      "[34.248.174.161] out:   Installing : docker-1.12.6-1.17.amzn1.x86 [########                     ] 2/2\n",
      "[34.248.174.161] out:   Installing : docker-1.12.6-1.17.amzn1.x86 [#########                    ] 2/2\n",
      "[34.248.174.161] out:   Installing : docker-1.12.6-1.17.amzn1.x86 [##########                   ] 2/2\n",
      "[34.248.174.161] out:   Installing : docker-1.12.6-1.17.amzn1.x86 [###########                  ] 2/2\n",
      "[34.248.174.161] out:   Installing : docker-1.12.6-1.17.amzn1.x86 [############                 ] 2/2\n",
      "[34.248.174.161] out:   Installing : docker-1.12.6-1.17.amzn1.x86 [#############                ] 2/2\n",
      "[34.248.174.161] out:   Installing : docker-1.12.6-1.17.amzn1.x86 [##############               ] 2/2\n",
      "[34.248.174.161] out:   Installing : docker-1.12.6-1.17.amzn1.x86 [###############              ] 2/2\n",
      "[34.248.174.161] out:   Installing : docker-1.12.6-1.17.amzn1.x86 [################             ] 2/2\n",
      "[34.248.174.161] out:   Installing : docker-1.12.6-1.17.amzn1.x86 [#################            ] 2/2\n",
      "[34.248.174.161] out:   Installing : docker-1.12.6-1.17.amzn1.x86 [##################           ] 2/2\n",
      "[34.248.174.161] out:   Installing : docker-1.12.6-1.17.amzn1.x86 [###################          ] 2/2\n",
      "[34.248.174.161] out:   Installing : docker-1.12.6-1.17.amzn1.x86 [####################         ] 2/2\n",
      "[34.248.174.161] out:   Installing : docker-1.12.6-1.17.amzn1.x86 [#####################        ] 2/2\n",
      "[34.248.174.161] out:   Installing : docker-1.12.6-1.17.amzn1.x86 [######################       ] 2/2\n",
      "[34.248.174.161] out:   Installing : docker-1.12.6-1.17.amzn1.x86 [#######################      ] 2/2\n",
      "[34.248.174.161] out:   Installing : docker-1.12.6-1.17.amzn1.x86 [########################     ] 2/2\n",
      "[34.248.174.161] out:   Installing : docker-1.12.6-1.17.amzn1.x86 [#########################    ] 2/2\n",
      "[34.248.174.161] out:   Installing : docker-1.12.6-1.17.amzn1.x86 [##########################   ] 2/2\n",
      "[34.248.174.161] out:   Installing : docker-1.12.6-1.17.amzn1.x86 [###########################  ] 2/2\n",
      "[34.248.174.161] out:   Installing : docker-1.12.6-1.17.amzn1.x86 [############################ ] 2/2\n",
      "[34.248.174.161] out:   Installing : docker-1.12.6-1.17.amzn1.x86_64                              2/2 \n",
      "[34.248.174.161] out: \n",
      "[34.248.174.161] out:   Verifying  : docker-1.12.6-1.17.amzn1.x86_64                              1/2 \n",
      "[34.248.174.161] out: \n",
      "[34.248.174.161] out:   Verifying  : xfsprogs-3.2.2-2.20.amzn1.x86_64                             2/2 \n",
      "[34.248.174.161] out: \n",
      "[34.248.174.161] out: Installed:\n",
      "[34.248.174.161] out:   docker.x86_64 0:1.12.6-1.17.amzn1                                             \n",
      "[34.248.174.161] out: \n",
      "[34.248.174.161] out: Dependency Installed:\n",
      "[34.248.174.161] out:   xfsprogs.x86_64 0:3.2.2-2.20.amzn1                                            \n",
      "[34.248.174.161] out: \n",
      "[34.248.174.161] out: Complete!\n",
      "[34.248.174.161] out: \n",
      "\n",
      "[34.248.174.161] sudo: usermod -aG docker ec2-user\n",
      "[34.248.174.161] sudo: pip install docker-compose\n",
      "[34.248.174.161] out: \u001b[33mYou are using pip version 6.1.1, however version 9.0.1 is available.\n",
      "[34.248.174.161] out: You should consider upgrading via the 'pip install --upgrade pip' command.\u001b[0m\n",
      "[34.248.174.161] out: Collecting docker-compose\n",
      "[34.248.174.161] out:   Downloading docker_compose-1.11.2-py2.py3-none-any.whl (85kB)\n",
      "[34.248.174.161] out: \u001b[?25l\n",
      "[34.248.174.161] out: \u001b[K    4% |█▌                              | 4.1kB 36.2MB/s eta 0:00:01\n",
      "[34.248.174.161] out: \u001b[K    9% |███                             | 8.2kB 3.6MB/s eta 0:00:01\n",
      "[34.248.174.161] out: \u001b[K    14% |████▋                           | 12kB 3.2MB/s eta 0:00:01\n",
      "[34.248.174.161] out: \u001b[K    19% |██████▏                         | 16kB 1.6MB/s eta 0:00:01\n",
      "[34.248.174.161] out: \u001b[K    23% |███████▋                        | 20kB 1.8MB/s eta 0:00:01\n",
      "[34.248.174.161] out: \u001b[K    28% |█████████▏                      | 24kB 1.9MB/s eta 0:00:01\n",
      "[34.248.174.161] out: \u001b[K    33% |██████████▊                     | 28kB 2.0MB/s eta 0:00:01\n",
      "[34.248.174.161] out: \u001b[K    38% |████████████▎                   | 32kB 1.6MB/s eta 0:00:01\n",
      "[34.248.174.161] out: \u001b[K    42% |█████████████▊                  | 36kB 1.8MB/s eta 0:00:01\n",
      "[34.248.174.161] out: \u001b[K    47% |███████████████▎                | 40kB 2.0MB/s eta 0:00:01\n",
      "[34.248.174.161] out: \u001b[K    52% |████████████████▉               | 45kB 2.0MB/s eta 0:00:01\n",
      "[34.248.174.161] out: \u001b[K    57% |██████████████████▍             | 49kB 2.0MB/s eta 0:00:01\n",
      "[34.248.174.161] out: \u001b[K    62% |███████████████████▉            | 53kB 2.1MB/s eta 0:00:01\n",
      "[34.248.174.161] out: \u001b[K    66% |█████████████████████▍          | 57kB 3.2MB/s eta 0:00:01\n",
      "[34.248.174.161] out: \u001b[K    71% |███████████████████████         | 61kB 3.4MB/s eta 0:00:01\n",
      "[34.248.174.161] out: \u001b[K    76% |████████████████████████▌       | 65kB 3.1MB/s eta 0:00:01\n",
      "[34.248.174.161] out: \u001b[K    81% |██████████████████████████      | 69kB 3.2MB/s eta 0:00:01\n",
      "[34.248.174.161] out: \u001b[K    85% |███████████████████████████▌    | 73kB 6.4MB/s eta 0:00:01\n",
      "[34.248.174.161] out: \u001b[K    90% |█████████████████████████████   | 77kB 6.4MB/s eta 0:00:01\n",
      "[34.248.174.161] out: \u001b[K    95% |██████████████████████████████▋ | 81kB 6.1MB/s eta 0:00:01\n",
      "[34.248.174.161] out: \u001b[K    100% |████████████████████████████████| 86kB 2.9MB/s \n",
      "[34.248.174.161] out: \u001b[?25hCollecting cached-property<2,>=1.2.0 (from docker-compose)\n",
      "[34.248.174.161] out:   Downloading cached_property-1.3.0-py2.py3-none-any.whl\n",
      "[34.248.174.161] out: Requirement already satisfied (use --upgrade to upgrade): six<2,>=1.3.0 in /usr/lib/python2.7/dist-packages (from docker-compose)\n",
      "[34.248.174.161] out: Collecting backports.ssl-match-hostname>=3.5 (from docker-compose)\n",
      "[34.248.174.161] out:   Downloading backports.ssl_match_hostname-3.5.0.1.tar.gz\n",
      "[34.248.174.161] out: Requirement already satisfied (use --upgrade to upgrade): PyYAML<4,>=3.10 in /usr/lib64/python2.7/dist-packages (from docker-compose)\n",
      "[34.248.174.161] out: Collecting ipaddress>=1.0.16 (from docker-compose)\n",
      "[34.248.174.161] out:   Downloading ipaddress-1.0.18-py2-none-any.whl\n",
      "[34.248.174.161] out: Collecting enum34<2,>=1.0.4 (from docker-compose)\n",
      "[34.248.174.161] out:   Downloading enum34-1.1.6-py2-none-any.whl\n",
      "[34.248.174.161] out: Collecting colorama<0.4,>=0.3.7 (from docker-compose)\n",
      "[34.248.174.161] out:   Downloading colorama-0.3.7-py2.py3-none-any.whl\n",
      "[34.248.174.161] out: Collecting requests!=2.11.0,<2.12,>=2.6.1 (from docker-compose)\n",
      "[34.248.174.161] out:   Downloading requests-2.11.1-py2.py3-none-any.whl (514kB)\n",
      "[34.248.174.161] out: \u001b[?25l\n",
      "[34.248.174.161] out: \u001b[K    0% |▎                               | 4.1kB 27.7MB/s eta 0:00:01\n",
      "[34.248.174.161] out: \u001b[K    1% |▌                               | 8.2kB 9.9MB/s eta 0:00:01\n",
      "[34.248.174.161] out: \u001b[K    2% |▊                               | 12kB 6.9MB/s eta 0:00:01\n",
      "[34.248.174.161] out: \u001b[K    3% |█                               | 16kB 2.0MB/s eta 0:00:01\n",
      "[34.248.174.161] out: \u001b[K    3% |█▎                              | 20kB 2.5MB/s eta 0:00:01\n",
      "[34.248.174.161] out: \u001b[K    4% |█▌                              | 24kB 2.9MB/s eta 0:00:01\n",
      "[34.248.174.161] out: \u001b[K    5% |█▉                              | 28kB 3.3MB/s eta 0:00:01\n",
      "[34.248.174.161] out: \u001b[K    6% |██                              | 32kB 2.5MB/s eta 0:00:01\n",
      "[34.248.174.161] out: \u001b[K    7% |██▎                             | 36kB 2.7MB/s eta 0:00:01\n",
      "[34.248.174.161] out: \u001b[K    7% |██▌                             | 40kB 3.0MB/s eta 0:00:01\n",
      "[34.248.174.161] out: \u001b[K    8% |██▉                             | 45kB 3.0MB/s eta 0:00:01\n",
      "[34.248.174.161] out: \u001b[K    9% |███                             | 49kB 2.5MB/s eta 0:00:01\n",
      "[34.248.174.161] out: \u001b[K    10% |███▎                            | 53kB 2.7MB/s eta 0:00:01\n",
      "[34.248.174.161] out: \u001b[K    11% |███▋                            | 57kB 4.5MB/s eta 0:00:01\n",
      "[34.248.174.161] out: \u001b[K    11% |███▉                            | 61kB 4.5MB/s eta 0:00:01\n",
      "[34.248.174.161] out: \u001b[K    12% |████                            | 65kB 3.2MB/s eta 0:00:01\n",
      "[34.248.174.161] out: \u001b[K    13% |████▎                           | 69kB 3.2MB/s eta 0:00:01\n",
      "[34.248.174.161] out: \u001b[K    14% |████▋                           | 73kB 5.1MB/s eta 0:00:01\n",
      "[34.248.174.161] out: \u001b[K    15% |████▉                           | 77kB 5.1MB/s eta 0:00:01\n",
      "[34.248.174.161] out: \u001b[K    15% |█████                           | 81kB 4.0MB/s eta 0:00:01\n",
      "[34.248.174.161] out: \u001b[K    16% |█████▍                          | 86kB 4.0MB/s eta 0:00:01\n",
      "[34.248.174.161] out: \u001b[K    17% |█████▋                          | 90kB 5.5MB/s eta 0:00:01\n",
      "[34.248.174.161] out: \u001b[K    18% |█████▉                          | 94kB 5.5MB/s eta 0:00:01\n",
      "[34.248.174.161] out: \u001b[K    19% |██████                          | 98kB 3.7MB/s eta 0:00:01\n",
      "[34.248.174.161] out: \u001b[K    19% |██████▍                         | 102kB 3.6MB/s eta 0:00:01\n",
      "[34.248.174.161] out: \u001b[K    20% |██████▋                         | 106kB 5.3MB/s eta 0:00:01\n",
      "[34.248.174.161] out: \u001b[K    21% |██████▉                         | 110kB 5.4MB/s eta 0:00:01\n",
      "[34.248.174.161] out: \u001b[K    22% |███████▏                        | 114kB 3.9MB/s eta 0:00:01\n",
      "[34.248.174.161] out: \u001b[K    23% |███████▍                        | 118kB 3.9MB/s eta 0:00:01\n",
      "[34.248.174.161] out: \u001b[K    23% |███████▋                        | 122kB 5.0MB/s eta 0:00:01\n",
      "[34.248.174.161] out: \u001b[K    24% |████████                        | 126kB 5.1MB/s eta 0:00:01\n",
      "[34.248.174.161] out: \u001b[K    25% |████████▏                       | 131kB 4.1MB/s eta 0:00:01\n",
      "[34.248.174.161] out: \u001b[K    26% |████████▍                       | 135kB 4.1MB/s eta 0:00:01\n",
      "[34.248.174.161] out: \u001b[K    27% |████████▋                       | 139kB 6.5MB/s eta 0:00:01\n",
      "[34.248.174.161] out: \u001b[K    27% |█████████                       | 143kB 6.7MB/s eta 0:00:01\n",
      "[34.248.174.161] out: \u001b[K    28% |█████████▏                      | 147kB 4.7MB/s eta 0:00:01\n",
      "[34.248.174.161] out: \u001b[K    29% |█████████▍                      | 151kB 4.6MB/s eta 0:00:01\n",
      "[34.248.174.161] out: \u001b[K    30% |█████████▊                      | 155kB 6.7MB/s eta 0:00:01\n",
      "[34.248.174.161] out: \u001b[K    31% |██████████                      | 159kB 6.7MB/s eta 0:00:01\n",
      "[34.248.174.161] out: \u001b[K    31% |██████████▏                     | 163kB 4.7MB/s eta 0:00:01\n",
      "[34.248.174.161] out: \u001b[K    32% |██████████▍                     | 167kB 4.7MB/s eta 0:00:01\n",
      "[34.248.174.161] out: \u001b[K    33% |██████████▊                     | 172kB 6.0MB/s eta 0:00:01\n",
      "[34.248.174.161] out: \u001b[K    34% |███████████                     | 176kB 6.0MB/s eta 0:00:01\n",
      "[34.248.174.161] out: \u001b[K    35% |███████████▏                    | 180kB 4.5MB/s eta 0:00:01\n",
      "[34.248.174.161] out: \u001b[K    35% |███████████▌                    | 184kB 4.5MB/s eta 0:00:01\n",
      "[34.248.174.161] out: \u001b[K    36% |███████████▊                    | 188kB 6.3MB/s eta 0:00:01\n",
      "[34.248.174.161] out: \u001b[K    37% |████████████                    | 192kB 6.3MB/s eta 0:00:01\n",
      "[34.248.174.161] out: \u001b[K    38% |████████████▏                   | 196kB 4.3MB/s eta 0:00:01\n",
      "[34.248.174.161] out: \u001b[K    38% |████████████▌                   | 200kB 4.3MB/s eta 0:00:01\n",
      "[34.248.174.161] out: \u001b[K    39% |████████████▊                   | 204kB 5.9MB/s eta 0:00:01\n",
      "[34.248.174.161] out: \u001b[K    40% |█████████████                   | 208kB 5.9MB/s eta 0:00:01\n",
      "[34.248.174.161] out: \u001b[K    41% |█████████████▎                  | 212kB 4.4MB/s eta 0:00:01\n",
      "[34.248.174.161] out: \u001b[K    42% |█████████████▌                  | 217kB 4.3MB/s eta 0:00:01\n",
      "[34.248.174.161] out: \u001b[K    42% |█████████████▊                  | 221kB 5.7MB/s eta 0:00:01\n",
      "[34.248.174.161] out: \u001b[K    43% |██████████████                  | 225kB 5.8MB/s eta 0:00:01\n",
      "[34.248.174.161] out: \u001b[K    44% |██████████████▎                 | 229kB 4.4MB/s eta 0:00:01\n",
      "[34.248.174.161] out: \u001b[K    45% |██████████████▌                 | 233kB 4.3MB/s eta 0:00:01\n",
      "[34.248.174.161] out: \u001b[K    46% |██████████████▊                 | 237kB 6.3MB/s eta 0:00:01\n",
      "[34.248.174.161] out: \u001b[K    46% |███████████████                 | 241kB 6.3MB/s eta 0:00:01\n",
      "[34.248.174.161] out: \u001b[K    47% |███████████████▎                | 245kB 4.2MB/s eta 0:00:01\n",
      "[34.248.174.161] out: \u001b[K    48% |███████████████▌                | 249kB 4.2MB/s eta 0:00:01\n",
      "[34.248.174.161] out: \u001b[K    49% |███████████████▉                | 253kB 5.7MB/s eta 0:00:01\n",
      "[34.248.174.161] out: \u001b[K    50% |████████████████                | 258kB 5.7MB/s eta 0:00:01\n",
      "[34.248.174.161] out: \u001b[K    50% |████████████████▎               | 262kB 4.5MB/s eta 0:00:01\n",
      "[34.248.174.161] out: \u001b[K    51% |████████████████▌               | 266kB 4.6MB/s eta 0:00:01\n",
      "[34.248.174.161] out: \u001b[K    52% |████████████████▉               | 270kB 6.1MB/s eta 0:00:01\n",
      "[34.248.174.161] out: \u001b[K    53% |█████████████████               | 274kB 6.3MB/s eta 0:00:01\n",
      "[34.248.174.161] out: \u001b[K    54% |█████████████████▎              | 278kB 5.2MB/s eta 0:00:01\n",
      "[34.248.174.161] out: \u001b[K    54% |█████████████████▋              | 282kB 5.3MB/s eta 0:00:01\n",
      "[34.248.174.161] out: \u001b[K    55% |█████████████████▉              | 286kB 9.2MB/s eta 0:00:01\n",
      "[34.248.174.161] out: \u001b[K    56% |██████████████████              | 290kB 9.3MB/s eta 0:00:01\n",
      "[34.248.174.161] out: \u001b[K    57% |██████████████████▎             | 294kB 5.4MB/s eta 0:00:01\n",
      "[34.248.174.161] out: \u001b[K    58% |██████████████████▋             | 299kB 5.4MB/s eta 0:00:01\n",
      "[34.248.174.161] out: \u001b[K    58% |██████████████████▉             | 303kB 7.0MB/s eta 0:00:01\n",
      "[34.248.174.161] out: \u001b[K    59% |███████████████████             | 307kB 7.0MB/s eta 0:00:01\n",
      "[34.248.174.161] out: \u001b[K    60% |███████████████████▍            | 311kB 4.9MB/s eta 0:00:01\n",
      "[34.248.174.161] out: \u001b[K    61% |███████████████████▋            | 315kB 4.9MB/s eta 0:00:01\n",
      "[34.248.174.161] out: \u001b[K    62% |███████████████████▉            | 319kB 5.7MB/s eta 0:00:01\n",
      "[34.248.174.161] out: \u001b[K    62% |████████████████████▏           | 323kB 5.7MB/s eta 0:00:01\n",
      "[34.248.174.161] out: \u001b[K    63% |████████████████████▍           | 327kB 4.4MB/s eta 0:00:01\n",
      "[34.248.174.161] out: \u001b[K    64% |████████████████████▋           | 331kB 4.4MB/s eta 0:00:01\n",
      "[34.248.174.161] out: \u001b[K    65% |████████████████████▉           | 335kB 6.6MB/s eta 0:00:01\n",
      "[34.248.174.161] out: \u001b[K    66% |█████████████████████▏          | 339kB 6.6MB/s eta 0:00:01\n",
      "[34.248.174.161] out: \u001b[K    66% |█████████████████████▍          | 344kB 5.6MB/s eta 0:00:01\n",
      "[34.248.174.161] out: \u001b[K    67% |█████████████████████▋          | 348kB 5.6MB/s eta 0:00:01\n",
      "[34.248.174.161] out: \u001b[K    68% |██████████████████████          | 352kB 8.5MB/s eta 0:00:01\n",
      "[34.248.174.161] out: \u001b[K    69% |██████████████████████▏         | 356kB 8.5MB/s eta 0:00:01\n",
      "[34.248.174.161] out: \u001b[K    70% |██████████████████████▍         | 360kB 5.4MB/s eta 0:00:01\n",
      "[34.248.174.161] out: \u001b[K    70% |██████████████████████▋         | 364kB 5.4MB/s eta 0:00:01\n",
      "[34.248.174.161] out: \u001b[K    71% |███████████████████████         | 368kB 7.5MB/s eta 0:00:01\n",
      "[34.248.174.161] out: \u001b[K    72% |███████████████████████▏        | 372kB 7.5MB/s eta 0:00:01\n",
      "[34.248.174.161] out: \u001b[K    73% |███████████████████████▍        | 376kB 5.2MB/s eta 0:00:01\n",
      "[34.248.174.161] out: \u001b[K    73% |███████████████████████▊        | 380kB 5.2MB/s eta 0:00:01\n",
      "[34.248.174.161] out: \u001b[K    74% |████████████████████████        | 385kB 6.1MB/s eta 0:00:01\n",
      "[34.248.174.161] out: \u001b[K    75% |████████████████████████▏       | 389kB 6.1MB/s eta 0:00:01\n",
      "[34.248.174.161] out: \u001b[K    76% |████████████████████████▍       | 393kB 5.0MB/s eta 0:00:01\n",
      "[34.248.174.161] out: \u001b[K    77% |████████████████████████▊       | 397kB 5.0MB/s eta 0:00:01\n",
      "[34.248.174.161] out: \u001b[K    77% |█████████████████████████       | 401kB 7.6MB/s eta 0:00:01\n",
      "[34.248.174.161] out: \u001b[K    78% |█████████████████████████▏      | 405kB 7.7MB/s eta 0:00:01\n",
      "[34.248.174.161] out: \u001b[K    79% |█████████████████████████▌      | 409kB 5.3MB/s eta 0:00:01\n",
      "[34.248.174.161] out: \u001b[K    80% |█████████████████████████▊      | 413kB 5.3MB/s eta 0:00:01\n",
      "[34.248.174.161] out: \u001b[K    81% |██████████████████████████      | 417kB 7.7MB/s eta 0:00:01\n",
      "[34.248.174.161] out: \u001b[K    81% |██████████████████████████▎     | 421kB 7.7MB/s eta 0:00:01\n",
      "[34.248.174.161] out: \u001b[K    82% |██████████████████████████▌     | 425kB 5.4MB/s eta 0:00:01\n",
      "[34.248.174.161] out: \u001b[K    83% |██████████████████████████▊     | 430kB 5.4MB/s eta 0:00:01\n",
      "[34.248.174.161] out: \u001b[K    84% |███████████████████████████     | 434kB 6.5MB/s eta 0:00:01\n",
      "[34.248.174.161] out: \u001b[K    85% |███████████████████████████▎    | 438kB 6.6MB/s eta 0:00:01\n",
      "[34.248.174.161] out: \u001b[K    85% |███████████████████████████▌    | 442kB 5.4MB/s eta 0:00:01\n",
      "[34.248.174.161] out: \u001b[K    86% |███████████████████████████▊    | 446kB 5.3MB/s eta 0:00:01\n",
      "[34.248.174.161] out: \u001b[K    87% |████████████████████████████    | 450kB 7.7MB/s eta 0:00:01\n",
      "[34.248.174.161] out: \u001b[K    88% |████████████████████████████▎   | 454kB 7.8MB/s eta 0:00:01\n",
      "[34.248.174.161] out: \u001b[K    89% |████████████████████████████▌   | 458kB 5.3MB/s eta 0:00:01\n",
      "[34.248.174.161] out: \u001b[K    89% |████████████████████████████▊   | 462kB 5.2MB/s eta 0:00:01\n",
      "[34.248.174.161] out: \u001b[K    90% |█████████████████████████████   | 466kB 7.4MB/s eta 0:00:01\n",
      "[34.248.174.161] out: \u001b[K    91% |█████████████████████████████▎  | 471kB 7.4MB/s eta 0:00:01\n",
      "[34.248.174.161] out: \u001b[K    92% |█████████████████████████████▌  | 475kB 6.0MB/s eta 0:00:01\n",
      "[34.248.174.161] out: \u001b[K    93% |█████████████████████████████▉  | 479kB 6.0MB/s eta 0:00:01\n",
      "[34.248.174.161] out: \u001b[K    93% |██████████████████████████████  | 483kB 7.6MB/s eta 0:00:01\n",
      "[34.248.174.161] out: \u001b[K    94% |██████████████████████████████▎ | 487kB 7.6MB/s eta 0:00:01\n",
      "[34.248.174.161] out: \u001b[K    95% |██████████████████████████████▌ | 491kB 6.1MB/s eta 0:00:01\n",
      "[34.248.174.161] out: \u001b[K    96% |██████████████████████████████▉ | 495kB 6.1MB/s eta 0:00:01\n",
      "[34.248.174.161] out: \u001b[K    97% |███████████████████████████████ | 499kB 9.6MB/s eta 0:00:01\n",
      "[34.248.174.161] out: \u001b[K    97% |███████████████████████████████▎| 503kB 9.9MB/s eta 0:00:01\n",
      "[34.248.174.161] out: \u001b[K    98% |███████████████████████████████▋| 507kB 8.2MB/s eta 0:00:01\n",
      "[34.248.174.161] out: \u001b[K    99% |███████████████████████████████▉| 512kB 8.2MB/s eta 0:00:01\n",
      "[34.248.174.161] out: \u001b[K    100% |████████████████████████████████| 516kB 879kB/s \n",
      "[34.248.174.161] out: \u001b[?25hCollecting jsonschema<3,>=2.5.1 (from docker-compose)\n",
      "[34.248.174.161] out:   Downloading jsonschema-2.6.0-py2.py3-none-any.whl\n",
      "[34.248.174.161] out: Collecting texttable<0.9,>=0.8.1 (from docker-compose)\n",
      "[34.248.174.161] out:   Downloading texttable-0.8.7.tar.gz\n",
      "[34.248.174.161] out: Collecting websocket-client<1.0,>=0.32.0 (from docker-compose)\n",
      "[34.248.174.161] out:   Downloading websocket_client-0.40.0.tar.gz (196kB)\n",
      "[34.248.174.161] out: \u001b[?25l\n",
      "[34.248.174.161] out: \u001b[K    2% |▊                               | 4.1kB 42.2MB/s eta 0:00:01\n",
      "[34.248.174.161] out: \u001b[K    4% |█▍                              | 8.2kB 30.5MB/s eta 0:00:01\n",
      "[34.248.174.161] out: \u001b[K    6% |██                              | 12kB 29.3MB/s eta 0:00:01\n",
      "[34.248.174.161] out: \u001b[K    8% |██▊                             | 16kB 14.7MB/s eta 0:00:01\n",
      "[34.248.174.161] out: \u001b[K    10% |███▍                            | 20kB 14.8MB/s eta 0:00:01\n",
      "[34.248.174.161] out: \u001b[K    12% |████                            | 24kB 15.9MB/s eta 0:00:01\n",
      "[34.248.174.161] out: \u001b[K    14% |████▊                           | 28kB 16.9MB/s eta 0:00:01\n",
      "[34.248.174.161] out: \u001b[K    16% |█████▍                          | 32kB 11.2MB/s eta 0:00:01\n",
      "[34.248.174.161] out: \u001b[K    18% |██████                          | 36kB 12.0MB/s eta 0:00:01\n",
      "[34.248.174.161] out: \u001b[K    20% |██████▊                         | 40kB 12.6MB/s eta 0:00:01\n",
      "[34.248.174.161] out: \u001b[K    22% |███████▍                        | 45kB 12.5MB/s eta 0:00:01\n",
      "[34.248.174.161] out: \u001b[K    25% |████████                        | 49kB 7.6MB/s eta 0:00:01\n",
      "[34.248.174.161] out: \u001b[K    27% |████████▊                       | 53kB 7.5MB/s eta 0:00:01\n",
      "[34.248.174.161] out: \u001b[K    29% |█████████▍                      | 57kB 8.4MB/s eta 0:00:01\n",
      "[34.248.174.161] out: \u001b[K    31% |██████████                      | 61kB 8.6MB/s eta 0:00:01\n",
      "[34.248.174.161] out: \u001b[K    33% |██████████▊                     | 65kB 6.1MB/s eta 0:00:01\n",
      "[34.248.174.161] out: \u001b[K    35% |███████████▍                    | 69kB 6.1MB/s eta 0:00:01\n",
      "[34.248.174.161] out: \u001b[K    37% |████████████                    | 73kB 7.3MB/s eta 0:00:01\n",
      "[34.248.174.161] out: \u001b[K    39% |████████████▊                   | 77kB 7.3MB/s eta 0:00:01\n",
      "[34.248.174.161] out: \u001b[K    41% |█████████████▍                  | 81kB 5.3MB/s eta 0:00:01\n",
      "[34.248.174.161] out: \u001b[K    43% |██████████████                  | 86kB 5.2MB/s eta 0:00:01\n",
      "[34.248.174.161] out: \u001b[K    45% |██████████████▊                 | 90kB 7.1MB/s eta 0:00:01\n",
      "[34.248.174.161] out: \u001b[K    48% |███████████████▍                | 94kB 7.2MB/s eta 0:00:01\n",
      "[34.248.174.161] out: \u001b[K    50% |████████████████                | 98kB 6.1MB/s eta 0:00:01\n",
      "[34.248.174.161] out: \u001b[K    52% |████████████████▊               | 102kB 6.1MB/s eta 0:00:01\n",
      "[34.248.174.161] out: \u001b[K    54% |█████████████████▍              | 106kB 8.5MB/s eta 0:00:01\n",
      "[34.248.174.161] out: \u001b[K    56% |██████████████████              | 110kB 8.4MB/s eta 0:00:01\n",
      "[34.248.174.161] out: \u001b[K    58% |██████████████████▊             | 114kB 5.8MB/s eta 0:00:01\n",
      "[34.248.174.161] out: \u001b[K    60% |███████████████████▍            | 118kB 5.7MB/s eta 0:00:01\n",
      "[34.248.174.161] out: \u001b[K    62% |████████████████████            | 122kB 8.1MB/s eta 0:00:01\n",
      "[34.248.174.161] out: \u001b[K    64% |████████████████████▊           | 126kB 8.3MB/s eta 0:00:01\n",
      "[34.248.174.161] out: \u001b[K    66% |█████████████████████▍          | 131kB 6.6MB/s eta 0:00:01\n",
      "[34.248.174.161] out: \u001b[K    68% |██████████████████████          | 135kB 6.6MB/s eta 0:00:01\n",
      "[34.248.174.161] out: \u001b[K    70% |██████████████████████▊         | 139kB 8.0MB/s eta 0:00:01\n",
      "[34.248.174.161] out: \u001b[K    73% |███████████████████████▍        | 143kB 8.0MB/s eta 0:00:01\n",
      "[34.248.174.161] out: \u001b[K    75% |████████████████████████        | 147kB 6.4MB/s eta 0:00:01\n",
      "[34.248.174.161] out: \u001b[K    77% |████████████████████████▊       | 151kB 6.4MB/s eta 0:00:01\n",
      "[34.248.174.161] out: \u001b[K    79% |█████████████████████████▍      | 155kB 9.9MB/s eta 0:00:01\n",
      "[34.248.174.161] out: \u001b[K    81% |██████████████████████████      | 159kB 9.9MB/s eta 0:00:01\n",
      "[34.248.174.161] out: \u001b[K    83% |██████████████████████████▊     | 163kB 7.1MB/s eta 0:00:01\n",
      "[34.248.174.161] out: \u001b[K    85% |███████████████████████████▍    | 167kB 7.1MB/s eta 0:00:01\n",
      "[34.248.174.161] out: \u001b[K    87% |████████████████████████████    | 172kB 9.1MB/s eta 0:00:01\n",
      "[34.248.174.161] out: \u001b[K    89% |████████████████████████████▊   | 176kB 9.1MB/s eta 0:00:01\n",
      "[34.248.174.161] out: \u001b[K    91% |█████████████████████████████▍  | 180kB 5.8MB/s eta 0:00:01\n",
      "[34.248.174.161] out: \u001b[K    93% |██████████████████████████████  | 184kB 5.8MB/s eta 0:00:01\n",
      "[34.248.174.161] out: \u001b[K    96% |██████████████████████████████▊ | 188kB 7.0MB/s eta 0:00:01\n",
      "[34.248.174.161] out: \u001b[K    98% |███████████████████████████████▍| 192kB 7.1MB/s eta 0:00:01\n",
      "[34.248.174.161] out: \u001b[K    100% |████████████████████████████████| 196kB 1.8MB/s \n",
      "[34.248.174.161] out: \u001b[?25hCollecting docopt<0.7,>=0.6.1 (from docker-compose)\n",
      "[34.248.174.161] out:   Downloading docopt-0.6.2.tar.gz\n",
      "[34.248.174.161] out: Collecting dockerpty<0.5,>=0.4.1 (from docker-compose)\n",
      "[34.248.174.161] out:   Downloading dockerpty-0.4.1.tar.gz\n",
      "[34.248.174.161] out: Collecting docker<3.0,>=2.1.0 (from docker-compose)\n",
      "[34.248.174.161] out:   Downloading docker-2.1.0-py2.py3-none-any.whl (105kB)\n",
      "[34.248.174.161] out: \u001b[?25l\n",
      "[34.248.174.161] out: \u001b[K    3% |█▎                              | 4.1kB 35.0MB/s eta 0:00:01\n",
      "[34.248.174.161] out: \u001b[K    7% |██▌                             | 8.2kB 26.9MB/s eta 0:00:01\n",
      "[34.248.174.161] out: \u001b[K    11% |███▊                            | 12kB 26.8MB/s eta 0:00:01\n",
      "[34.248.174.161] out: \u001b[K    15% |█████                           | 16kB 19.5MB/s eta 0:00:01\n",
      "[34.248.174.161] out: \u001b[K    19% |██████▏                         | 20kB 20.0MB/s eta 0:00:01\n",
      "[34.248.174.161] out: \u001b[K    23% |███████▌                        | 24kB 20.2MB/s eta 0:00:01\n",
      "[34.248.174.161] out: \u001b[K    27% |████████▊                       | 28kB 20.8MB/s eta 0:00:01\n",
      "[34.248.174.161] out: \u001b[K    31% |██████████                      | 32kB 11.7MB/s eta 0:00:01\n",
      "[34.248.174.161] out: \u001b[K    34% |███████████▏                    | 36kB 12.3MB/s eta 0:00:01\n",
      "[34.248.174.161] out: \u001b[K    38% |████████████▍                   | 40kB 13.0MB/s eta 0:00:01\n",
      "[34.248.174.161] out: \u001b[K    42% |█████████████▊                  | 45kB 12.7MB/s eta 0:00:01\n",
      "[34.248.174.161] out: \u001b[K    46% |███████████████                 | 49kB 9.2MB/s eta 0:00:01\n",
      "[34.248.174.161] out: \u001b[K    50% |████████████████▏               | 53kB 9.1MB/s eta 0:00:01\n",
      "[34.248.174.161] out: \u001b[K    54% |█████████████████▍              | 57kB 9.6MB/s eta 0:00:01\n",
      "[34.248.174.161] out: \u001b[K    58% |██████████████████▋             | 61kB 9.7MB/s eta 0:00:01\n",
      "[34.248.174.161] out: \u001b[K    62% |████████████████████            | 65kB 5.8MB/s eta 0:00:01\n",
      "[34.248.174.161] out: \u001b[K    66% |█████████████████████▏          | 69kB 5.8MB/s eta 0:00:01\n",
      "[34.248.174.161] out: \u001b[K    69% |██████████████████████▍         | 73kB 7.1MB/s eta 0:00:01\n",
      "[34.248.174.161] out: \u001b[K    73% |███████████████████████▋        | 77kB 7.1MB/s eta 0:00:01\n",
      "[34.248.174.161] out: \u001b[K    77% |████████████████████████▉       | 81kB 5.8MB/s eta 0:00:01\n",
      "[34.248.174.161] out: \u001b[K    81% |██████████████████████████▏     | 86kB 5.7MB/s eta 0:00:01\n",
      "[34.248.174.161] out: \u001b[K    85% |███████████████████████████▍    | 90kB 7.0MB/s eta 0:00:01\n",
      "[34.248.174.161] out: \u001b[K    89% |████████████████████████████▋   | 94kB 7.1MB/s eta 0:00:01\n",
      "[34.248.174.161] out: \u001b[K    93% |█████████████████████████████▉  | 98kB 6.9MB/s eta 0:00:01\n",
      "[34.248.174.161] out: \u001b[K    97% |███████████████████████████████ | 102kB 6.9MB/s eta 0:00:01\n",
      "[34.248.174.161] out: \u001b[K    100% |████████████████████████████████| 106kB 3.6MB/s \n",
      "[34.248.174.161] out: \u001b[?25hCollecting functools32 (from jsonschema<3,>=2.5.1->docker-compose)\n",
      "[34.248.174.161] out:   Downloading functools32-3.2.3-2.zip\n",
      "[34.248.174.161] out: Collecting docker-pycreds>=0.2.1 (from docker<3.0,>=2.1.0->docker-compose)\n",
      "[34.248.174.161] out:   Downloading docker_pycreds-0.2.1-py2.py3-none-any.whl\n",
      "[34.248.174.161] out: Installing collected packages: cached-property, backports.ssl-match-hostname, ipaddress, enum34, colorama, requests, functools32, jsonschema, texttable, websocket-client, docopt, dockerpty, docker-pycreds, docker, docker-compose\n",
      "[34.248.174.161] out:   Found existing installation: backports.ssl-match-hostname 3.4.0.2\n",
      "[34.248.174.161] out:     Uninstalling backports.ssl-match-hostname-3.4.0.2:\n",
      "[34.248.174.161] out:       Successfully uninstalled backports.ssl-match-hostname-3.4.0.2\n",
      "[34.248.174.161] out:   Running setup.py install for backports.ssl-match-hostname\n",
      "[34.248.174.161] out:   Found existing installation: colorama 0.2.5\n",
      "[34.248.174.161] out: \u001b[33m    DEPRECATION: Uninstalling a distutils installed project (colorama) has been deprecated and will be removed in a future version. This is due to the fact that uninstalling a distutils project will only partially uninstall the project.\u001b[0m\n",
      "[34.248.174.161] out:     Uninstalling colorama-0.2.5:\n",
      "[34.248.174.161] out:       Successfully uninstalled colorama-0.2.5\n",
      "[34.248.174.161] out:   Found existing installation: requests 1.2.3\n",
      "[34.248.174.161] out:     Uninstalling requests-1.2.3:\n",
      "[34.248.174.161] out:       Successfully uninstalled requests-1.2.3\n",
      "[34.248.174.161] out:   Running setup.py install for functools32\n",
      "[34.248.174.161] out:   Running setup.py install for texttable\n",
      "[34.248.174.161] out:   Running setup.py install for websocket-client\n",
      "[34.248.174.161] out:   Running setup.py install for docopt\n",
      "[34.248.174.161] out:   Running setup.py install for dockerpty\n",
      "[34.248.174.161] out: Successfully installed backports.ssl-match-hostname-3.5.0.1 cached-property-1.3.0 colorama-0.3.7 docker-2.1.0 docker-compose-1.11.2 docker-pycreds-0.2.1 dockerpty-0.4.1 docopt-0.6.2 enum34-1.1.6 functools32-3.2.3.post2 ipaddress-1.0.18 jsonschema-2.6.0 requests-2.11.1 texttable-0.8.7 websocket-client-0.40.0\n",
      "[34.248.174.161] out: \n"
     ]
    },
    {
     "name": "stderr",
     "output_type": "stream",
     "text": [
      "[root:INFO]:docker installed. if need to pull images then use ssh as this shows progress whereas fabric does not (apps.py\\29, time=21:04)\n"
     ]
    },
    {
     "name": "stdout",
     "output_type": "stream",
     "text": [
      "\n"
     ]
    },
    {
     "ename": "AttributeError",
     "evalue": "'Pdrive' object has no attribute 'formatdisk'",
     "output_type": "error",
     "traceback": [
      "\u001b[0;31m---------------------------------------------------------------------------\u001b[0m",
      "\u001b[0;31mAttributeError\u001b[0m                            Traceback (most recent call last)",
      "\u001b[0;32m<ipython-input-51-a1f33089fbdd>\u001b[0m in \u001b[0;36m<module>\u001b[0;34m()\u001b[0m\n\u001b[1;32m      1\u001b[0m \u001b[1;31m# create a server called \"kate\" with a free instance; and a volume called \"fastai\" mounted at /v1 to hold programs and data\u001b[0m\u001b[1;33m\u001b[0m\u001b[1;33m\u001b[0m\u001b[0m\n\u001b[0;32m----> 2\u001b[0;31m \u001b[0mserver\u001b[0m\u001b[1;33m.\u001b[0m\u001b[0mcreate\u001b[0m\u001b[1;33m(\u001b[0m\u001b[1;34m\"kate\"\u001b[0m\u001b[1;33m,\u001b[0m \u001b[0mbootsize\u001b[0m\u001b[1;33m=\u001b[0m\u001b[1;32mNone\u001b[0m\u001b[1;33m,\u001b[0m \u001b[0mitype\u001b[0m\u001b[1;33m=\u001b[0m\u001b[1;34m\"free\"\u001b[0m\u001b[1;33m,\u001b[0m \u001b[0mpdrive\u001b[0m\u001b[1;33m=\u001b[0m\u001b[1;34m\"fastai\"\u001b[0m\u001b[1;33m,\u001b[0m \u001b[0mpdrivesize\u001b[0m\u001b[1;33m=\u001b[0m\u001b[1;36m10\u001b[0m\u001b[1;33m)\u001b[0m\u001b[1;33m\u001b[0m\u001b[0m\n\u001b[0m\u001b[1;32m      3\u001b[0m \u001b[0mapps\u001b[0m\u001b[1;33m.\u001b[0m\u001b[0minstall_docker\u001b[0m\u001b[1;33m(\u001b[0m\u001b[1;33m)\u001b[0m\u001b[1;33m\u001b[0m\u001b[0m\n\u001b[1;32m      4\u001b[0m \u001b[0mapps\u001b[0m\u001b[1;33m.\u001b[0m\u001b[0mset_docker_folder\u001b[0m\u001b[1;33m(\u001b[0m\u001b[1;34m\"/v1\"\u001b[0m\u001b[1;33m)\u001b[0m\u001b[1;33m\u001b[0m\u001b[0m\n",
      "\u001b[0;32mC:\\Users\\s\\Documents\\py\\apps\\aws\\server.py\u001b[0m in \u001b[0;36mcreate\u001b[0;34m(name, bootsize, itype, spot, pdrive, pdrivesize)\u001b[0m\n\u001b[1;32m     95\u001b[0m         \u001b[1;31m# if new volume then format and mount\u001b[0m\u001b[1;33m\u001b[0m\u001b[1;33m\u001b[0m\u001b[0m\n\u001b[1;32m     96\u001b[0m         \u001b[1;32mif\u001b[0m \u001b[1;32mnot\u001b[0m \u001b[0mlatest_snapshot\u001b[0m\u001b[1;33m:\u001b[0m\u001b[1;33m\u001b[0m\u001b[0m\n\u001b[0;32m---> 97\u001b[0;31m             \u001b[0mpdrive\u001b[0m\u001b[1;33m.\u001b[0m\u001b[0mformatdisk\u001b[0m\u001b[1;33m(\u001b[0m\u001b[1;33m)\u001b[0m\u001b[1;33m\u001b[0m\u001b[0m\n\u001b[0m\u001b[1;32m     98\u001b[0m         \u001b[0mpdrive\u001b[0m\u001b[1;33m.\u001b[0m\u001b[0mmount\u001b[0m\u001b[1;33m(\u001b[0m\u001b[1;33m)\u001b[0m\u001b[1;33m\u001b[0m\u001b[0m\n\u001b[1;32m     99\u001b[0m         \u001b[0mapps\u001b[0m\u001b[1;33m.\u001b[0m\u001b[0mset_docker_folder\u001b[0m\u001b[1;33m(\u001b[0m\u001b[1;34m\"/v1\"\u001b[0m\u001b[1;33m)\u001b[0m\u001b[1;33m\u001b[0m\u001b[0m\n",
      "\u001b[0;31mAttributeError\u001b[0m: 'Pdrive' object has no attribute 'formatdisk'"
     ]
    },
    {
     "name": "stdout",
     "output_type": "stream",
     "text": [
      "time: 1min 26s\n"
     ]
    },
    {
     "data": {
      "text/html": [
       "\n",
       "                <audio controls=\"controls\" autoplay=\"autoplay\">\n",
       "                    <source src=\"data:audio/wav;base64,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\" type=\"audio/wav\" />\n",
       "                    Your browser does not support the audio element.\n",
       "                </audio>\n",
       "              "
      ],
      "text/plain": [
       "<IPython.lib.display.Audio object>"
      ]
     },
     "metadata": {},
     "output_type": "display_data"
    },
    {
     "data": {
      "text/html": [
       "<style>audio{display:none}</style>"
      ],
      "text/plain": [
       "<IPython.core.display.HTML object>"
      ]
     },
     "metadata": {},
     "output_type": "display_data"
    }
   ],
   "source": [
    "# create a server called \"kate\" with a free instance; and a volume called \"fastai\" mounted at /v1 to hold programs and data\n",
    "server.create(\"kate\", bootsize=None, itype=\"free\", pdrive=\"fastai\", pdrivesize=10)\n",
    "apps.install_docker()\n",
    "apps.set_docker_folder(\"/v1\")"
   ]
  },
  {
   "cell_type": "code",
   "execution_count": 61,
   "metadata": {
    "collapsed": false
   },
   "outputs": [
    {
     "name": "stderr",
     "output_type": "stream",
     "text": [
      "[root:INFO]:starting (cellevents.py\\30, time=21:17)\n"
     ]
    },
    {
     "name": "stdout",
     "output_type": "stream",
     "text": [
      "[34.248.174.161] sudo: mkdir -p /v1\n",
      "[34.248.174.161] sudo: mount /dev/xvdf /v1\n"
     ]
    },
    {
     "name": "stderr",
     "output_type": "stream",
     "text": [
      "[root:INFO]:volume mounted (pdrive.py\\107, time=21:17)\n"
     ]
    },
    {
     "name": "stdout",
     "output_type": "stream",
     "text": [
      "[34.248.174.161] sudo: chown -R ec2-user:ec2-user /v1\n",
      "time: 447 ms\n"
     ]
    }
   ],
   "source": [
    "pdrive.mount()"
   ]
  },
  {
   "cell_type": "code",
   "execution_count": 62,
   "metadata": {
    "collapsed": false
   },
   "outputs": [
    {
     "name": "stderr",
     "output_type": "stream",
     "text": [
      "[root:INFO]:starting (cellevents.py\\30, time=21:18)\n"
     ]
    },
    {
     "name": "stdout",
     "output_type": "stream",
     "text": [
      "[34.248.174.161] sudo: yum install -y -q git\n",
      "[34.248.174.161] out: Package git-2.7.4-1.47.amzn1.x86_64 already installed and latest version\n",
      "[34.248.174.161] out: \n",
      "\n",
      "[34.248.174.161] sudo: if cd basics; then git pull; else git clone https://github.com/simonm3/basics.git basics; fi\n",
      "[34.248.174.161] out: Already up-to-date.\n",
      "[34.248.174.161] out: \n",
      "\n",
      "[34.248.174.161] put: C:\\Users\\s\\Documents\\py\\apps\\aws\\..\\basics\\_creds.py -> /v1/basics/_creds.py\n",
      "time: 2.29 s\n"
     ]
    }
   ],
   "source": [
    "# install some additional tools on /v1\n",
    "fab.sudo(\"yum install -y -q git\")\n",
    "with fab.cd(\"/v1\"):\n",
    "  apps.install_github(\"simonm3\", [\"basics\"])"
   ]
  },
  {
   "cell_type": "code",
   "execution_count": null,
   "metadata": {
    "collapsed": true
   },
   "outputs": [],
   "source": [
    "# manual steps as this easier to monitor progress\n",
    "### ssh to server\n",
    "### docker pull simonm3/fastai\n",
    "### download data to /v1"
   ]
  },
  {
   "cell_type": "code",
   "execution_count": 67,
   "metadata": {
    "collapsed": false
   },
   "outputs": [
    {
     "name": "stderr",
     "output_type": "stream",
     "text": [
      "[root:INFO]:starting (cellevents.py\\30, time=21:22)\n"
     ]
    },
    {
     "name": "stdout",
     "output_type": "stream",
     "text": [
      "[34.248.174.161] sudo: docker run -v /v1:/host -w=/host/nbs -p 8888:8888 -d --restart=always --name fastai simonm3/fastai\n",
      "[34.248.174.161] out: docker: Error response from daemon: Conflict. The name \"/fastai\" is already in use by container ea660804221f454e343d027ac09aea5810236aadab6da967da1fe58f729d0c42. You have to remove (or rename) that container to be able to reuse that name..\n",
      "[34.248.174.161] out: See 'docker run --help'.\n",
      "[34.248.174.161] out: \n",
      "\n"
     ]
    },
    {
     "name": "stderr",
     "output_type": "stream",
     "text": [
      "\n",
      "Fatal error: sudo() received nonzero return code 125 while executing!\n",
      "\n",
      "Requested: docker run -v /v1:/host -w=/host/nbs -p 8888:8888 -d --restart=always --name fastai simonm3/fastai\n",
      "Executed: sudo -S -p 'sudo password:'  /bin/bash -l -c \"docker run -v /v1:/host -w=/host/nbs -p 8888:8888 -d --restart=always --name fastai simonm3/fastai\"\n",
      "\n",
      "NoneType\n",
      "\n",
      "\n",
      "Aborting.\n"
     ]
    },
    {
     "ename": "SystemExit",
     "evalue": "1",
     "output_type": "error",
     "traceback": [
      "An exception has occurred, use %tb to see the full traceback.\n",
      "\u001b[0;31mSystemExit\u001b[0m\u001b[0;31m:\u001b[0m 1\n"
     ]
    },
    {
     "name": "stdout",
     "output_type": "stream",
     "text": [
      "time: 829 ms\n"
     ]
    },
    {
     "name": "stderr",
     "output_type": "stream",
     "text": [
      "C:\\Users\\s\\Anaconda3\\lib\\site-packages\\IPython\\core\\interactiveshell.py:2889: UserWarning: To exit: use 'exit', 'quit', or Ctrl-D.\n",
      "  warn(\"To exit: use 'exit', 'quit', or Ctrl-D.\", stacklevel=1)\n"
     ]
    }
   ],
   "source": [
    "# run fastai and add paths to additonal tools\n",
    "apps.run_fastai()\n",
    "with fab.quiet():\n",
    "    fab.run(\"docker exec notebook python /host/basics/pathconfig.py\")"
   ]
  },
  {
   "cell_type": "markdown",
   "metadata": {},
   "source": [
    "We can test the fastai notebook is running at the \"kate\" ip address port 8888. All of the setup time has used free instances and free storage. Next step is to terminate this instance. All data and programs will be preserved in a snapshot."
   ]
  },
  {
   "cell_type": "code",
   "execution_count": null,
   "metadata": {
    "collapsed": true
   },
   "outputs": [],
   "source": [
    "server.terminate(\"kate\")"
   ]
  },
  {
   "cell_type": "markdown",
   "metadata": {},
   "source": [
    "## Working with an existing pdrive"
   ]
  },
  {
   "cell_type": "code",
   "execution_count": null,
   "metadata": {
    "collapsed": true
   },
   "outputs": [],
   "source": [
    "pdrive = Pdrive(\"cats\")\n",
    "pdrive.connect(\"sm1\")"
   ]
  },
  {
   "cell_type": "code",
   "execution_count": null,
   "metadata": {
    "collapsed": true
   },
   "outputs": [],
   "source": [
    "pdrive.disconnect()"
   ]
  },
  {
   "cell_type": "markdown",
   "metadata": {},
   "source": [
    "## Create more servers"
   ]
  },
  {
   "cell_type": "code",
   "execution_count": null,
   "metadata": {
    "collapsed": true
   },
   "outputs": [],
   "source": [
    "# create server with static ip address running wordpress\n",
    "instance = server.create(\"sm1\")\n",
    "fab.env.host_string = aws.get_ips()[0]\n",
    "aws.client.associate_address(InstanceId=instance.instance_id,\n",
    "                             PublicIp=fab.env.host_string)\n",
    "server.wait_ssh()\n",
    "apps.install_docker()\n",
    "apps.install_wordpress()"
   ]
  },
  {
   "cell_type": "markdown",
   "metadata": {},
   "source": [
    "## Utilities"
   ]
  },
  {
   "cell_type": "code",
   "execution_count": null,
   "metadata": {
    "collapsed": false
   },
   "outputs": [],
   "source": [
    "# get a resource by name\n",
    "aws.get(\"sm1\")"
   ]
  },
  {
   "cell_type": "code",
   "execution_count": null,
   "metadata": {
    "collapsed": false
   },
   "outputs": [],
   "source": [
    "# get all resources (instances, volumes, snapshots)\n",
    "aws.get(unique=False)"
   ]
  },
  {
   "cell_type": "code",
   "execution_count": null,
   "metadata": {
    "collapsed": false
   },
   "outputs": [],
   "source": [
    "# show instances used\n",
    "aws.get_instances()"
   ]
  },
  {
   "cell_type": "code",
   "execution_count": null,
   "metadata": {
    "collapsed": false
   },
   "outputs": [],
   "source": [
    "# show python tasks running in containers\n",
    "fab.env.host_string=aws.get(\"sm1\").public_ip_address\n",
    "server.get_tasks(\"python\")"
   ]
  },
  {
   "cell_type": "code",
   "execution_count": null,
   "metadata": {
    "collapsed": false
   },
   "outputs": [],
   "source": [
    "apps.run_python(\"meetup\")"
   ]
  },
  {
   "cell_type": "code",
   "execution_count": null,
   "metadata": {
    "collapsed": false
   },
   "outputs": [],
   "source": [
    "# show all tasks running in containers\n",
    "server.get_tasks()"
   ]
  },
  {
   "cell_type": "markdown",
   "metadata": {},
   "source": [
    "## Change docker location "
   ]
  },
  {
   "cell_type": "code",
   "execution_count": null,
   "metadata": {
    "collapsed": true
   },
   "outputs": [],
   "source": [
    "# set to pdrive\n",
    "apps.set_docker_folder(\"/v1\")"
   ]
  },
  {
   "cell_type": "code",
   "execution_count": null,
   "metadata": {
    "collapsed": true
   },
   "outputs": [],
   "source": [
    "# set to boot drive\n",
    "apps.set_docker_folder()"
   ]
  }
 ],
 "metadata": {
  "anaconda-cloud": {},
  "kernelspec": {
   "display_name": "Python [conda root]",
   "language": "python",
   "name": "conda-root-py"
  },
  "language_info": {
   "codemirror_mode": {
    "name": "ipython",
    "version": 3
   },
   "file_extension": ".py",
   "mimetype": "text/x-python",
   "name": "python",
   "nbconvert_exporter": "python",
   "pygments_lexer": "ipython3",
   "version": "3.5.2"
  },
  "notify_time": "5"
 },
 "nbformat": 4,
 "nbformat_minor": 1
}
