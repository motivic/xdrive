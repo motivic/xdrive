{
 "cells": [
  {
   "cell_type": "code",
   "execution_count": 24,
   "metadata": {},
   "outputs": [
    {
     "name": "stderr",
     "output_type": "stream",
     "text": [
      "[root:INFO]:starting (cellevents.py\\31, time=13:15)\n"
     ]
    },
    {
     "name": "stdout",
     "output_type": "stream",
     "text": [
      "time: 589 ms\n"
     ]
    }
   ],
   "source": [
    "from analysis.ipstartup import *\n",
    "import aws\n",
    "import fabric.api as fab\n",
    "from fabric.state import output\n",
    "\n",
    "# set verbosity=0\n",
    "output = {k:True for k,v in output.items()}\n",
    "fab.env.host_string = sm1.public_ip_address\n",
    "\n",
    "sm1 = aws.getRes(\"sm1\", aws.ec2.instances)"
   ]
  },
  {
   "cell_type": "code",
   "execution_count": 11,
   "metadata": {},
   "outputs": [
    {
     "name": "stderr",
     "output_type": "stream",
     "text": [
      "[root:INFO]:starting (cellevents.py\\31, time=11:53)\n"
     ]
    },
    {
     "data": {
      "text/html": [
       "<div>\n",
       "<table border=\"1\" class=\"dataframe\">\n",
       "  <thead>\n",
       "    <tr style=\"text-align: right;\">\n",
       "      <th></th>\n",
       "      <th>name</th>\n",
       "      <th>instance_id</th>\n",
       "      <th>image</th>\n",
       "      <th>type</th>\n",
       "      <th>state</th>\n",
       "      <th>ip</th>\n",
       "    </tr>\n",
       "  </thead>\n",
       "  <tbody>\n",
       "    <tr>\n",
       "      <th>0</th>\n",
       "      <td>sm1</td>\n",
       "      <td>i-0fba41e915de786b3</td>\n",
       "      <td>ami-c51e3eb6</td>\n",
       "      <td>t2.micro</td>\n",
       "      <td>running</td>\n",
       "      <td>34.248.253.147</td>\n",
       "    </tr>\n",
       "  </tbody>\n",
       "</table>\n",
       "</div>"
      ],
      "text/plain": [
       "  name          instance_id         image      type    state              ip\n",
       "0  sm1  i-0fba41e915de786b3  ami-c51e3eb6  t2.micro  running  34.248.253.147"
      ]
     },
     "metadata": {},
     "output_type": "display_data"
    },
    {
     "name": "stdout",
     "output_type": "stream",
     "text": [
      "time: 480 ms\n"
     ]
    }
   ],
   "source": [
    "# show servers\n",
    "aws.show()"
   ]
  },
  {
   "cell_type": "code",
   "execution_count": 18,
   "metadata": {},
   "outputs": [
    {
     "name": "stderr",
     "output_type": "stream",
     "text": [
      "[root:INFO]:starting (cellevents.py\\31, time=13:10)\n"
     ]
    },
    {
     "name": "stdout",
     "output_type": "stream",
     "text": [
      "[34.248.253.147] run: mkdir -p basics\n",
      "[34.248.253.147] run: if cd basics; then git pull; else git clone https://github.com/simonm3/basics.git basics; fi\n",
      "[34.248.253.147] out: Already up-to-date.\n",
      "[34.248.253.147] out: \n",
      "\n",
      "[34.248.253.147] run: mkdir -p analysis\n",
      "[34.248.253.147] run: if cd analysis; then git pull; else git clone https://github.com/simonm3/analysis.git analysis; fi\n",
      "[34.248.253.147] out: Already up-to-date.\n",
      "[34.248.253.147] out: \n",
      "\n",
      "[34.248.253.147] run: mkdir -p meetup\n",
      "[34.248.253.147] run: if cd meetup; then git pull; else git clone https://github.com/simonm3/meetup.git meetup; fi\n",
      "[34.248.253.147] out: Already up-to-date.\n",
      "[34.248.253.147] out: \n",
      "\n",
      "[34.248.253.147] put: C:\\Users\\s\\documents/py/apps/meetup\\_creds.py -> meetup/_creds.py\n",
      "[34.248.253.147] run: mkdir -p ~/.jupyter\n",
      "[34.248.253.147] put: <file obj> -> /home/ec2-user/.jupyter/jupyter_notebook_config.py\n",
      "time: 4.07 s\n"
     ]
    }
   ],
   "source": [
    "aws.install_projects()"
   ]
  },
  {
   "cell_type": "code",
   "execution_count": 20,
   "metadata": {},
   "outputs": [
    {
     "name": "stderr",
     "output_type": "stream",
     "text": [
      "[root:INFO]:starting (cellevents.py\\31, time=13:11)\n"
     ]
    },
    {
     "name": "stdout",
     "output_type": "stream",
     "text": [
      "[34.248.253.147] run: docker rm -f notebook || true\n",
      "[34.248.253.147] out: Error response from daemon: No such container: notebook\n",
      "[34.248.253.147] out: \n",
      "\n",
      "[34.248.253.147] run: docker run -v $PWD/.ssh:/root/.ssh -v $PWD/.jupyter:/root/.jupyter -v $PWD:/host -w=/host -p 8888:8888 -d -i --name notebook kaggle/python\n",
      "[34.248.253.147] out: 2128e0d1bbaed90f0d97a6114e3aea6a427ae755b46b0d497c09aeca85b1827b\n",
      "[34.248.253.147] out: \n",
      "\n",
      "[34.248.253.147] run: docker exec notebook python basics/pathconfig.py\n",
      "[34.248.253.147] out: [root:INFO]:starting (pathconfig.py\\10, time=13:11)\n",
      "[34.248.253.147] out: \n",
      "\n",
      "[34.248.253.147] run: docker exec -d notebook jupyter notebook\n",
      "time: 3.12 s\n"
     ]
    }
   ],
   "source": [
    "aws.restart_notebook()"
   ]
  },
  {
   "cell_type": "code",
   "execution_count": 36,
   "metadata": {},
   "outputs": [
    {
     "name": "stderr",
     "output_type": "stream",
     "text": [
      "[root:INFO]:starting (cellevents.py\\31, time=13:39)\n"
     ]
    },
    {
     "name": "stdout",
     "output_type": "stream",
     "text": [
      "[34.248.253.147] run: docker rm -f meetup || true\n",
      "\n",
      "[34.248.253.147] out: meetup\n",
      "[34.248.253.147] out: \n",
      "\n",
      "[34.248.253.147] run: docker run -v $PWD:/host -w=/host -d -i --name meetup kaggle/python\n",
      "[34.248.253.147] out: 700bedc792dfdb3a6f0eca96480da40c7582a5cb066afe5b7c7333d6e5babd18\n",
      "[34.248.253.147] out: \n",
      "\n",
      "[34.248.253.147] run: docker exec meetup python basics/pathconfig.py\n",
      "[34.248.253.147] out: [root:INFO]:starting (pathconfig.py\\10, time=13:39)\n",
      "[34.248.253.147] out: \n",
      "\n",
      "[34.248.253.147] run: docker exec -d meetup python meetup/meetup.py\n",
      "time: 3.89 s\n"
     ]
    }
   ],
   "source": [
    "aws.restart_meetup()"
   ]
  },
  {
   "cell_type": "code",
   "execution_count": 51,
   "metadata": {},
   "outputs": [
    {
     "name": "stderr",
     "output_type": "stream",
     "text": [
      "[root:INFO]:starting (cellevents.py\\31, time=13:51)\n"
     ]
    },
    {
     "name": "stdout",
     "output_type": "stream",
     "text": [
      "[34.248.253.147] run: docker exec meetup ps -t\n",
      "[34.248.253.147] out:   PID TTY      STAT   TIME COMMAND\n",
      "[34.248.253.147] out:     1 ?        Ss     0:00 /usr/bin/tini -- /bin/bash\n",
      "[34.248.253.147] out:     5 ?        S      0:00 /bin/bash\n",
      "[34.248.253.147] out:    10 ?        Ss     0:00 python meetup/meetup.py\n",
      "[34.248.253.147] out:    51 ?        Rs     0:00 ps -t\n",
      "[34.248.253.147] out: \n",
      "\n",
      "time: 310 ms\n"
     ]
    }
   ],
   "source": [
    "# check running\n",
    "_ = fab.run(\"docker exec meetup ps -t\")"
   ]
  },
  {
   "cell_type": "code",
   "execution_count": 56,
   "metadata": {},
   "outputs": [
    {
     "name": "stderr",
     "output_type": "stream",
     "text": [
      "[root:INFO]:starting (cellevents.py\\31, time=14:40)\n"
     ]
    },
    {
     "name": "stdout",
     "output_type": "stream",
     "text": [
      "time: 245 ms\n"
     ]
    },
    {
     "name": "stderr",
     "output_type": "stream",
     "text": [
      "fatal: Not a git repository (or any of the parent directories): .git\n"
     ]
    }
   ],
   "source": [
    "!git ls-files"
   ]
  }
 ],
 "metadata": {
  "kernelspec": {
   "display_name": "Python [default]",
   "language": "python",
   "name": "python3"
  },
  "language_info": {
   "codemirror_mode": {
    "name": "ipython",
    "version": 3
   },
   "file_extension": ".py",
   "mimetype": "text/x-python",
   "name": "python",
   "nbconvert_exporter": "python",
   "pygments_lexer": "ipython3",
   "version": "3.5.2"
  }
 },
 "nbformat": 4,
 "nbformat_minor": 1
}
