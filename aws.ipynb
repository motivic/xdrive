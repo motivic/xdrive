{
 "cells": [
  {
   "cell_type": "code",
   "execution_count": 5,
   "metadata": {
    "collapsed": false
   },
   "outputs": [
    {
     "name": "stderr",
     "output_type": "stream",
     "text": [
      "[root:INFO]:starting (cellevents.py\\31, time=20:29)\n"
     ]
    },
    {
     "name": "stdout",
     "output_type": "stream",
     "text": [
      "time: 1.13 s\n"
     ]
    }
   ],
   "source": [
    "from analysis.ipstartup import *\n",
    "import aws\n",
    "import docker\n",
    "import fabric.api as fab\n",
    "import fabric\n",
    "\n",
    "fab.output['everything'] = True\n",
    "fab.env.host_string = aws.ec2.Instance(aws.getId(\"sm0\")).public_ip_address"
   ]
  },
  {
   "cell_type": "code",
   "execution_count": null,
   "metadata": {
    "collapsed": false
   },
   "outputs": [],
   "source": [
    "aws.create_server(disksize=15)"
   ]
  },
  {
   "cell_type": "code",
   "execution_count": 6,
   "metadata": {
    "collapsed": false
   },
   "outputs": [
    {
     "name": "stderr",
     "output_type": "stream",
     "text": [
      "[root:INFO]:starting (cellevents.py\\31, time=20:29)\n"
     ]
    },
    {
     "data": {
      "text/html": [
       "<div>\n",
       "<table border=\"1\" class=\"dataframe\">\n",
       "  <thead>\n",
       "    <tr style=\"text-align: right;\">\n",
       "      <th></th>\n",
       "      <th>name</th>\n",
       "      <th>instance_id</th>\n",
       "      <th>image</th>\n",
       "      <th>type</th>\n",
       "      <th>state</th>\n",
       "      <th>ip</th>\n",
       "    </tr>\n",
       "  </thead>\n",
       "  <tbody>\n",
       "    <tr>\n",
       "      <th>0</th>\n",
       "      <td>sm0</td>\n",
       "      <td>i-054a9985c431ecbed</td>\n",
       "      <td>ami-c51e3eb6</td>\n",
       "      <td>t2.micro</td>\n",
       "      <td>running</td>\n",
       "      <td>34.248.84.101</td>\n",
       "    </tr>\n",
       "    <tr>\n",
       "      <th>1</th>\n",
       "      <td>sm1</td>\n",
       "      <td>i-0933f9f9fabdcdc28</td>\n",
       "      <td>ami-c51e3eb6</td>\n",
       "      <td>t2.micro</td>\n",
       "      <td>terminated</td>\n",
       "      <td>None</td>\n",
       "    </tr>\n",
       "  </tbody>\n",
       "</table>\n",
       "</div>"
      ],
      "text/plain": [
       "  name          instance_id         image      type       state             ip\n",
       "0  sm0  i-054a9985c431ecbed  ami-c51e3eb6  t2.micro     running  34.248.84.101\n",
       "1  sm1  i-0933f9f9fabdcdc28  ami-c51e3eb6  t2.micro  terminated           None"
      ]
     },
     "execution_count": 6,
     "metadata": {},
     "output_type": "execute_result"
    },
    {
     "name": "stdout",
     "output_type": "stream",
     "text": [
      "time: 422 ms\n"
     ]
    }
   ],
   "source": [
    "aws.getInstances()"
   ]
  },
  {
   "cell_type": "code",
   "execution_count": 8,
   "metadata": {
    "collapsed": false
   },
   "outputs": [
    {
     "name": "stderr",
     "output_type": "stream",
     "text": [
      "[root:INFO]:starting (cellevents.py\\31, time=19:57)\n"
     ]
    },
    {
     "ename": "TypeError",
     "evalue": "connect() missing 1 required positional argument: 'key'",
     "output_type": "error",
     "traceback": [
      "\u001b[0;31m---------------------------------------------------------------------------\u001b[0m",
      "\u001b[0;31mTypeError\u001b[0m                                 Traceback (most recent call last)",
      "\u001b[0;32m<ipython-input-8-1c2849ee8471>\u001b[0m in \u001b[0;36m<module>\u001b[0;34m()\u001b[0m\n\u001b[1;32m      1\u001b[0m \u001b[1;32mfrom\u001b[0m \u001b[0mfabric\u001b[0m\u001b[1;33m.\u001b[0m\u001b[0mnetwork\u001b[0m \u001b[1;32mimport\u001b[0m \u001b[0mHostConnectionCache\u001b[0m\u001b[1;33m\u001b[0m\u001b[0m\n\u001b[0;32m----> 2\u001b[0;31m \u001b[0mHostConnectionCache\u001b[0m\u001b[1;33m(\u001b[0m\u001b[1;33m)\u001b[0m\u001b[1;33m.\u001b[0m\u001b[0mconnect\u001b[0m\u001b[1;33m(\u001b[0m\u001b[1;33m)\u001b[0m\u001b[1;33m\u001b[0m\u001b[0m\n\u001b[0m\u001b[1;32m      3\u001b[0m \u001b[0mdocker\u001b[0m\u001b[1;33m.\u001b[0m\u001b[0minstall_base\u001b[0m\u001b[1;33m(\u001b[0m\u001b[1;33m)\u001b[0m\u001b[1;33m\u001b[0m\u001b[0m\n",
      "\u001b[0;31mTypeError\u001b[0m: connect() missing 1 required positional argument: 'key'"
     ]
    },
    {
     "name": "stdout",
     "output_type": "stream",
     "text": [
      "time: 11 ms\n"
     ]
    }
   ],
   "source": [
    "docker.install_base()"
   ]
  },
  {
   "cell_type": "code",
   "execution_count": 7,
   "metadata": {
    "collapsed": false
   },
   "outputs": [
    {
     "name": "stderr",
     "output_type": "stream",
     "text": [
      "[root:INFO]:starting (cellevents.py\\31, time=20:29)\n"
     ]
    },
    {
     "name": "stdout",
     "output_type": "stream",
     "text": [
      "[34.248.84.101] run: docker ps -a\n",
      "[34.248.84.101] out: CONTAINER ID        IMAGE               COMMAND                  CREATED             STATUS              PORTS                    NAMES\n",
      "[34.248.84.101] out: c3a796b9de0a        kaggle/python       \"/usr/bin/tini -- /bi\"   About an hour ago   Up About an hour    0.0.0.0:8888->8888/tcp   notebook\n",
      "[34.248.84.101] out: \n",
      "\n"
     ]
    },
    {
     "data": {
      "text/plain": [
       "'CONTAINER ID        IMAGE               COMMAND                  CREATED             STATUS              PORTS                    NAMES\\r\\nc3a796b9de0a        kaggle/python       \"/usr/bin/tini -- /bi\"   About an hour ago   Up About an hour    0.0.0.0:8888->8888/tcp   notebook'"
      ]
     },
     "execution_count": 7,
     "metadata": {},
     "output_type": "execute_result"
    },
    {
     "name": "stdout",
     "output_type": "stream",
     "text": [
      "time: 683 ms\n"
     ]
    }
   ],
   "source": [
    "fab.run(\"docker ps -a\")"
   ]
  },
  {
   "cell_type": "code",
   "execution_count": 8,
   "metadata": {
    "collapsed": false
   },
   "outputs": [
    {
     "name": "stderr",
     "output_type": "stream",
     "text": [
      "[root:INFO]:starting (cellevents.py\\31, time=20:29)\n"
     ]
    },
    {
     "name": "stdout",
     "output_type": "stream",
     "text": [
      "[34.248.84.101] run: docker inspect --format='{{.Name}}' $(docker ps -q)\n",
      "[34.248.84.101] out: /notebook\n",
      "[34.248.84.101] out: \n",
      "\n",
      "[34.248.84.101] run: docker exec notebook ps -eo args | grep python || true\n",
      "[34.248.84.101] out: /opt/conda/bin/python /opt/conda/bin/jupyter-notebook\n",
      "[34.248.84.101] out: \n",
      "\n"
     ]
    },
    {
     "data": {
      "text/html": [
       "<div>\n",
       "<table border=\"1\" class=\"dataframe\">\n",
       "  <thead>\n",
       "    <tr style=\"text-align: right;\">\n",
       "      <th></th>\n",
       "      <th>container</th>\n",
       "      <th>task</th>\n",
       "    </tr>\n",
       "  </thead>\n",
       "  <tbody>\n",
       "    <tr>\n",
       "      <th>0</th>\n",
       "      <td>notebook</td>\n",
       "      <td>/opt/conda/bin/python /opt/conda/bin/jupyter-n...</td>\n",
       "    </tr>\n",
       "  </tbody>\n",
       "</table>\n",
       "</div>"
      ],
      "text/plain": [
       "  container                                               task\n",
       "0  notebook  /opt/conda/bin/python /opt/conda/bin/jupyter-n..."
      ]
     },
     "execution_count": 8,
     "metadata": {},
     "output_type": "execute_result"
    },
    {
     "name": "stdout",
     "output_type": "stream",
     "text": [
      "time: 359 ms\n"
     ]
    }
   ],
   "source": [
    "docker.gettasks()"
   ]
  },
  {
   "cell_type": "code",
   "execution_count": null,
   "metadata": {
    "collapsed": false
   },
   "outputs": [],
   "source": [
    "i1 = aws.create_server(ami[\"ImageId\"], servertype=\"gpu\", disksize=15)"
   ]
  },
  {
   "cell_type": "code",
   "execution_count": 9,
   "metadata": {
    "collapsed": false
   },
   "outputs": [
    {
     "name": "stderr",
     "output_type": "stream",
     "text": [
      "[root:INFO]:starting (cellevents.py\\31, time=20:30)\n"
     ]
    },
    {
     "name": "stdout",
     "output_type": "stream",
     "text": [
      "[34.248.84.101] run: mkdir basics || true\n",
      "[34.248.84.101] out: mkdir: cannot create directory ‘basics’: File exists\n",
      "[34.248.84.101] out: \n",
      "\n",
      "[localhost] local: git archive HEAD > basics.tar\n",
      "[34.248.84.101] put: C:\\Users\\s\\Documents\\py\\apps\\aws\\..\\basics\\basics.tar -> /home/ec2-user/basics.tar\n",
      "[34.248.84.101] run: tar xf basics.tar -C basics\n",
      "[34.248.84.101] run: rm basics.tar\n",
      "[34.248.84.101] run: mkdir analysis || true\n",
      "[34.248.84.101] out: mkdir: cannot create directory ‘analysis’: File exists\n",
      "[34.248.84.101] out: \n",
      "\n",
      "[localhost] local: git archive HEAD > analysis.tar\n",
      "[34.248.84.101] put: C:\\Users\\s\\Documents\\py\\apps\\aws\\..\\analysis\\analysis.tar -> /home/ec2-user/analysis.tar\n",
      "[34.248.84.101] run: tar xf analysis.tar -C analysis\n",
      "[34.248.84.101] run: rm analysis.tar\n",
      "[34.248.84.101] run: mkdir meetup || true\n",
      "[34.248.84.101] out: mkdir: cannot create directory ‘meetup’: File exists\n",
      "[34.248.84.101] out: \n",
      "\n",
      "[localhost] local: git archive HEAD > meetup.tar\n",
      "[34.248.84.101] put: C:\\Users\\s\\Documents\\py\\apps\\aws\\..\\meetup\\meetup.tar -> /home/ec2-user/meetup.tar\n",
      "[34.248.84.101] run: tar xf meetup.tar -C meetup\n",
      "[34.248.84.101] run: rm meetup.tar\n",
      "[34.248.84.101] put: C:\\Users\\s\\Documents\\py\\apps\\aws\\..\\meetup\\_creds.py -> meetup/_creds.py\n",
      "[34.248.84.101] run: mkdir .jupyter || true\n",
      "[34.248.84.101] out: mkdir: cannot create directory ‘.jupyter’: File exists\n",
      "[34.248.84.101] out: \n",
      "\n",
      "[34.248.84.101] put: <file obj> -> .jupyter/jupyter_notebook_config.py\n",
      "time: 7.86 s\n"
     ]
    }
   ],
   "source": [
    "docker.install_projects()"
   ]
  },
  {
   "cell_type": "code",
   "execution_count": null,
   "metadata": {
    "collapsed": false
   },
   "outputs": [],
   "source": [
    "docker.restart_notebook()"
   ]
  },
  {
   "cell_type": "code",
   "execution_count": 10,
   "metadata": {
    "collapsed": false
   },
   "outputs": [
    {
     "name": "stderr",
     "output_type": "stream",
     "text": [
      "[root:INFO]:starting (cellevents.py\\31, time=20:30)\n"
     ]
    },
    {
     "name": "stdout",
     "output_type": "stream",
     "text": [
      "[34.248.84.101] run: docker rm -f meetup || true\n",
      "[34.248.84.101] out: Error response from daemon: No such container: meetup\n",
      "[34.248.84.101] out: \n",
      "\n",
      "[34.248.84.101] run: docker run -v $PWD:/v1 -w=/v1 -d -i --name meetup kaggle/python\n",
      "[34.248.84.101] out: fa83da905db2f15fc86c1357611f884d875b1f8cc16cca59623142f6a43b1b3b\n",
      "[34.248.84.101] out: \n",
      "\n",
      "[34.248.84.101] run: docker exec meetup python basics/pathconfig.py\n",
      "[34.248.84.101] out: [root:INFO]:starting (pathconfig.py\\10, time=20:30)\n",
      "[34.248.84.101] out: \n",
      "\n",
      "[34.248.84.101] run: docker exec -d meetup python meetup/meetup.py\n",
      "time: 2.12 s\n"
     ]
    }
   ],
   "source": [
    "docker.restart_meetup()"
   ]
  },
  {
   "cell_type": "code",
   "execution_count": 11,
   "metadata": {
    "collapsed": false
   },
   "outputs": [
    {
     "name": "stderr",
     "output_type": "stream",
     "text": [
      "[root:INFO]:starting (cellevents.py\\31, time=20:30)\n"
     ]
    },
    {
     "name": "stdout",
     "output_type": "stream",
     "text": [
      "[34.248.84.101] run: docker inspect --format='{{.Name}}' $(docker ps -q)\n",
      "[34.248.84.101] out: /meetup\n",
      "[34.248.84.101] out: /notebook\n",
      "[34.248.84.101] out: \n",
      "\n",
      "[34.248.84.101] run: docker exec meetup ps -eo args | grep python || true\n",
      "[34.248.84.101] out: python meetup/meetup.py\n",
      "[34.248.84.101] out: \n",
      "\n",
      "[34.248.84.101] run: docker exec notebook ps -eo args | grep python || true\n",
      "[34.248.84.101] out: /opt/conda/bin/python /opt/conda/bin/jupyter-notebook\n",
      "[34.248.84.101] out: \n",
      "\n"
     ]
    },
    {
     "data": {
      "text/html": [
       "<div>\n",
       "<table border=\"1\" class=\"dataframe\">\n",
       "  <thead>\n",
       "    <tr style=\"text-align: right;\">\n",
       "      <th></th>\n",
       "      <th>container</th>\n",
       "      <th>task</th>\n",
       "    </tr>\n",
       "  </thead>\n",
       "  <tbody>\n",
       "    <tr>\n",
       "      <th>0</th>\n",
       "      <td>meetup</td>\n",
       "      <td>python meetup/meetup.py</td>\n",
       "    </tr>\n",
       "    <tr>\n",
       "      <th>1</th>\n",
       "      <td>notebook</td>\n",
       "      <td>/opt/conda/bin/python /opt/conda/bin/jupyter-n...</td>\n",
       "    </tr>\n",
       "  </tbody>\n",
       "</table>\n",
       "</div>"
      ],
      "text/plain": [
       "  container                                               task\n",
       "0    meetup                            python meetup/meetup.py\n",
       "1  notebook  /opt/conda/bin/python /opt/conda/bin/jupyter-n..."
      ]
     },
     "metadata": {},
     "output_type": "display_data"
    },
    {
     "name": "stdout",
     "output_type": "stream",
     "text": [
      "time: 575 ms\n"
     ]
    }
   ],
   "source": [
    "d(docker.gettasks(\"python\"))"
   ]
  },
  {
   "cell_type": "code",
   "execution_count": null,
   "metadata": {
    "collapsed": false
   },
   "outputs": [],
   "source": [
    "import boto3\n",
    "s3=boto3.resource(\"s3\")\n",
    "s3.create_bucket(Bucket=\"simonm3\")\n",
    "for a in s3.buckets.all():\n",
    "    print(a)"
   ]
  },
  {
   "cell_type": "code",
   "execution_count": null,
   "metadata": {
    "collapsed": false
   },
   "outputs": [],
   "source": [
    "for a in s3.Bucket('simonm3').objects.all():\n",
    "    print(a.bucket_name, a.key)"
   ]
  },
  {
   "cell_type": "code",
   "execution_count": null,
   "metadata": {
    "collapsed": false
   },
   "outputs": [],
   "source": [
    "s3a = s3.Bucket('simonm3')\n",
    "s3a.put_object(Key='test2.txt', Body=\"just testing2\")\n",
    "#s3a.download_file(Key=\"test.txt\", Filename=\"temp\")"
   ]
  }
 ],
 "metadata": {
  "anaconda-cloud": {},
  "kernelspec": {
   "display_name": "Python [default]",
   "language": "python",
   "name": "python3"
  },
  "language_info": {
   "codemirror_mode": {
    "name": "ipython",
    "version": 3
   },
   "file_extension": ".py",
   "mimetype": "text/x-python",
   "name": "python",
   "nbconvert_exporter": "python",
   "pygments_lexer": "ipython3",
   "version": "3.5.2"
  }
 },
 "nbformat": 4,
 "nbformat_minor": 1
}
