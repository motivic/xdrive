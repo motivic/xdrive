{
 "cells": [
  {
   "cell_type": "code",
   "execution_count": 3,
   "metadata": {},
   "outputs": [
    {
     "name": "stderr",
     "output_type": "stream",
     "text": [
      "[root:INFO]:starting (cellevents.py\\31, time=17:29)\n"
     ]
    },
    {
     "name": "stdout",
     "output_type": "stream",
     "text": [
      "time: 1.67 s\n"
     ]
    }
   ],
   "source": [
    "from analysis.ipstartup import *\n",
    "import aws\n",
    "import fabric.api as fab\n",
    "import fabric\n",
    "\n",
    "# set verbosity=0\n",
    "#fabric.state.output = {k:False for k,v in output.items()}\n",
    "\n",
    "\n",
    "sm1 = aws.getRes(\"sm1\", aws.ec2.instances)\n",
    "fab.env.host_string = sm1.public_ip_address"
   ]
  },
  {
   "cell_type": "code",
   "execution_count": 23,
   "metadata": {},
   "outputs": [
    {
     "ename": "ImportError",
     "evalue": "bad magic number in 'analysis': b'\\x03\\xf3\\r\\n'",
     "output_type": "error",
     "traceback": [
      "\u001b[0;31m---------------------------------------------------------------------------\u001b[0m",
      "\u001b[0;31mImportError\u001b[0m                               Traceback (most recent call last)",
      "\u001b[0;32m<ipython-input-23-4edaff413540>\u001b[0m in \u001b[0;36m<module>\u001b[0;34m()\u001b[0m\n\u001b[0;32m----> 1\u001b[0;31m \u001b[1;32mimport\u001b[0m \u001b[0manalysis\u001b[0m\u001b[1;33m.\u001b[0m\u001b[0mexplore\u001b[0m\u001b[1;33m\u001b[0m\u001b[0m\n\u001b[0m",
      "\u001b[0;31mImportError\u001b[0m: bad magic number in 'analysis': b'\\x03\\xf3\\r\\n'"
     ]
    }
   ],
   "source": [
    "import analysis.explore"
   ]
  },
  {
   "cell_type": "code",
   "execution_count": 22,
   "metadata": {},
   "outputs": [],
   "source": [
    "\"\"\" explore tools excluding plots \"\"\"\n",
    "\n",
    "import os\n",
    "import webbrowser\n",
    "import logging as log\n",
    "from IPython.display import display as d\n",
    "from IPython.core.display import HTML\n",
    "import pandas as pd\n",
    "\n",
    "try:\n",
    "    import xlwings as xw\n",
    "except:\n",
    "    pass\n",
    "\n",
    "def htmlo(html, filename=None):\n",
    "    \"\"\" shows html text in a browser \"\"\"\n",
    "    if not filename:    \n",
    "        filename = \"_temp.html\"\n",
    "    with open(filename, 'w', encoding=\"utf8\") as f:\n",
    "        f.write(html)\n",
    "    webbrowser.open('file://' + os.path.realpath(filename))\n",
    "\n",
    "def xlo(df, filename=None):\n",
    "    \"\"\" show pandas dataframe or series in excel sheet\n",
    "        uses xlwings which allows writing to open file\n",
    "    \"\"\"\n",
    "    if not filename:    \n",
    "        filename = \"_temp.xlsx\"\n",
    "    if not os.path.isfile(filename):\n",
    "        wb = xw.Book()\n",
    "        xw.sheets(\"Sheet2\").delete()\n",
    "        xw.sheets(\"Sheet3\").delete()\n",
    "    else:\n",
    "        wb = xw.Book(filename)\n",
    "        xw.sheets.add()\n",
    "    xw.sheets.active.range(\"A1\").value = df\n",
    "    wb.save(filename)\n",
    "\n",
    "def stable(*args, **kwargs):\n",
    "    \"\"\" survival table showing counts and %lived\n",
    "        args[0] is row target died/lived\n",
    "        args[1] is list of column variables\n",
    "    \"\"\"\n",
    "    # enable assign to args\n",
    "    args = list(args)\n",
    "    # if args[1] is single column then make it a list\n",
    "    if not isinstance(args[1], list):\n",
    "        args[1] = [args[1]]\n",
    "    \n",
    "    title = \", \".join([col.name for col in args[1]])\n",
    "    d(HTML(\"<h4>%s</h4>\"%title))\n",
    "    table = pd.crosstab(*args, **kwargs)\n",
    "    table.index = [\"died\", \"lived\"]\n",
    "    table.loc[\"rate\"] = table.iloc[-1] / table.sum()\n",
    "    ftable = table.style.format(\"{:.0%}\", subset=pd.IndexSlice[\"rate\",:])\n",
    "    d(ftable)\n",
    "    \n",
    "def qcut(*args, **kwargs):\n",
    "    \"\"\" override pd.qcut to adjust to \"non-unique bin edges\" exception \n",
    "    args[0] is variable\n",
    "    args[1] is number of cuts\n",
    "    \"\"\"\n",
    "    args = list(args)\n",
    "    while True:\n",
    "        try:\n",
    "            return pd.qcut(*args, **kwargs)\n",
    "        except ValueError:\n",
    "            args[1] = args[1] - 1\n",
    "            if args[1] < 1:\n",
    "                raise \"Cannot divide %s into %s percentiles or less\"%(args[0].name, args[1])\n",
    "            log.warning(\"reducing percentiles for %s to %s\"%(args[0].name, args[1]))\n"
   ]
  },
  {
   "cell_type": "code",
   "execution_count": 11,
   "metadata": {},
   "outputs": [
    {
     "name": "stderr",
     "output_type": "stream",
     "text": [
      "[root:INFO]:starting (cellevents.py\\31, time=11:53)\n"
     ]
    },
    {
     "data": {
      "text/html": [
       "<div>\n",
       "<table border=\"1\" class=\"dataframe\">\n",
       "  <thead>\n",
       "    <tr style=\"text-align: right;\">\n",
       "      <th></th>\n",
       "      <th>name</th>\n",
       "      <th>instance_id</th>\n",
       "      <th>image</th>\n",
       "      <th>type</th>\n",
       "      <th>state</th>\n",
       "      <th>ip</th>\n",
       "    </tr>\n",
       "  </thead>\n",
       "  <tbody>\n",
       "    <tr>\n",
       "      <th>0</th>\n",
       "      <td>sm1</td>\n",
       "      <td>i-0fba41e915de786b3</td>\n",
       "      <td>ami-c51e3eb6</td>\n",
       "      <td>t2.micro</td>\n",
       "      <td>running</td>\n",
       "      <td>34.248.253.147</td>\n",
       "    </tr>\n",
       "  </tbody>\n",
       "</table>\n",
       "</div>"
      ],
      "text/plain": [
       "  name          instance_id         image      type    state              ip\n",
       "0  sm1  i-0fba41e915de786b3  ami-c51e3eb6  t2.micro  running  34.248.253.147"
      ]
     },
     "metadata": {},
     "output_type": "display_data"
    },
    {
     "name": "stdout",
     "output_type": "stream",
     "text": [
      "time: 480 ms\n"
     ]
    }
   ],
   "source": [
    "# show servers\n",
    "aws.show()"
   ]
  },
  {
   "cell_type": "code",
   "execution_count": 79,
   "metadata": {},
   "outputs": [
    {
     "name": "stderr",
     "output_type": "stream",
     "text": [
      "[root:INFO]:starting (cellevents.py\\31, time=16:18)\n"
     ]
    },
    {
     "name": "stdout",
     "output_type": "stream",
     "text": [
      "[34.248.253.147] run: mkdir basics || true\n",
      "[34.248.253.147] out: mkdir: cannot create directory ‘basics’: File exists\n",
      "[34.248.253.147] out: \n",
      "\n",
      "[localhost] local: git archive HEAD > basics.tar\n",
      "[34.248.253.147] put: C:\\Users\\s\\Documents\\py\\apps\\aws\\..\\basics\\basics.tar -> /home/ec2-user/basics.tar\n",
      "[34.248.253.147] run: tar xf basics.tar -C basics\n",
      "[34.248.253.147] run: rm basics.tar\n",
      "[34.248.253.147] run: mkdir analysis || true\n",
      "[34.248.253.147] out: mkdir: cannot create directory ‘analysis’: File exists\n",
      "[34.248.253.147] out: \n",
      "\n",
      "[localhost] local: git archive HEAD > analysis.tar\n",
      "[34.248.253.147] put: C:\\Users\\s\\Documents\\py\\apps\\aws\\..\\analysis\\analysis.tar -> /home/ec2-user/analysis.tar\n",
      "[34.248.253.147] run: tar xf analysis.tar -C analysis\n",
      "[34.248.253.147] run: rm analysis.tar\n",
      "[34.248.253.147] run: mkdir meetup || true\n",
      "[34.248.253.147] out: mkdir: cannot create directory ‘meetup’: File exists\n",
      "[34.248.253.147] out: \n",
      "\n",
      "[localhost] local: git archive HEAD > meetup.tar\n",
      "[34.248.253.147] put: C:\\Users\\s\\Documents\\py\\apps\\aws\\..\\meetup\\meetup.tar -> /home/ec2-user/meetup.tar\n",
      "[34.248.253.147] run: tar xf meetup.tar -C meetup\n",
      "[34.248.253.147] run: rm meetup.tar\n",
      "[34.248.253.147] put: C:\\Users\\s\\documents/py/apps/meetup\\_creds.py -> meetup/_creds.py\n",
      "[34.248.253.147] run: mkdir .jupyter || true\n",
      "[34.248.253.147] out: mkdir: cannot create directory ‘.jupyter’: File exists\n",
      "[34.248.253.147] out: \n",
      "\n",
      "[34.248.253.147] put: <file obj> -> .jupyter/jupyter_notebook_config.py\n",
      "time: 4.9 s\n"
     ]
    }
   ],
   "source": [
    "aws.install_projects()"
   ]
  },
  {
   "cell_type": "code",
   "execution_count": 83,
   "metadata": {},
   "outputs": [
    {
     "name": "stderr",
     "output_type": "stream",
     "text": [
      "[root:INFO]:starting (cellevents.py\\31, time=16:23)\n"
     ]
    },
    {
     "name": "stdout",
     "output_type": "stream",
     "text": [
      "[34.248.253.147] run: docker rm -f notebook || true\n",
      "[34.248.253.147] out: notebook\n",
      "[34.248.253.147] out: \n",
      "\n",
      "[34.248.253.147] run: docker run -v $PWD/.ssh:/root/.ssh -v $PWD/.jupyter:/root/.jupyter -v $PWD:/host -w=/host -p 8888:8888 -d -i --name notebook kaggle/python\n",
      "[34.248.253.147] out: 23201cb9fa25d661710d2ffdd84d42519abb332c7ce8bc2d59971b7a74d58671\n",
      "[34.248.253.147] out: \n",
      "\n",
      "[34.248.253.147] run: docker exec notebook python basics/pathconfig.py\n",
      "[34.248.253.147] out: [root:INFO]:starting (pathconfig.py\\10, time=16:23)\n",
      "[34.248.253.147] out: \n",
      "\n",
      "[34.248.253.147] run: docker exec -d notebook jupyter notebook\n",
      "time: 4.55 s\n"
     ]
    }
   ],
   "source": [
    "aws.restart_notebook()"
   ]
  },
  {
   "cell_type": "code",
   "execution_count": 84,
   "metadata": {},
   "outputs": [
    {
     "name": "stderr",
     "output_type": "stream",
     "text": [
      "[root:INFO]:starting (cellevents.py\\31, time=16:23)\n"
     ]
    },
    {
     "name": "stdout",
     "output_type": "stream",
     "text": [
      "[34.248.253.147] run: docker rm -f meetup || true\n",
      "[34.248.253.147] out: meetup\n",
      "[34.248.253.147] out: \n",
      "\n",
      "[34.248.253.147] run: docker run -v $PWD:/host -w=/host -d -i --name meetup kaggle/python\n",
      "[34.248.253.147] out: 08ca6a160cac4f6e6ca5694c8758ad1ad2825f9f36731b0909c62562be58335d\n",
      "[34.248.253.147] out: \n",
      "\n",
      "[34.248.253.147] run: docker exec meetup python basics/pathconfig.py\n",
      "[34.248.253.147] out: [root:INFO]:starting (pathconfig.py\\10, time=16:24)\n",
      "[34.248.253.147] out: \n",
      "\n",
      "[34.248.253.147] run: docker exec -d meetup python meetup/meetup.py\n",
      "time: 4.89 s\n"
     ]
    }
   ],
   "source": [
    "aws.restart_meetup()"
   ]
  },
  {
   "cell_type": "code",
   "execution_count": 104,
   "metadata": {},
   "outputs": [
    {
     "name": "stderr",
     "output_type": "stream",
     "text": [
      "[root:INFO]:starting (cellevents.py\\31, time=17:10)\n"
     ]
    },
    {
     "name": "stdout",
     "output_type": "stream",
     "text": [
      "[34.248.253.147] run: docker exec meetup ps -t | grep meetup\n",
      "[34.248.253.147] out:    10 ?        Ss     0:00 python meetup/meetup.py\n",
      "[34.248.253.147] out: \n",
      "\n",
      "time: 374 ms\n"
     ]
    }
   ],
   "source": [
    "# check running\n",
    "_ = fab.run(\"docker exec meetup ps -t | grep meetup\")"
   ]
  }
 ],
 "metadata": {
  "kernelspec": {
   "display_name": "Python [default]",
   "language": "python",
   "name": "python3"
  },
  "language_info": {
   "codemirror_mode": {
    "name": "ipython",
    "version": 3
   },
   "file_extension": ".py",
   "mimetype": "text/x-python",
   "name": "python",
   "nbconvert_exporter": "python",
   "pygments_lexer": "ipython3",
   "version": "3.5.2"
  }
 },
 "nbformat": 4,
 "nbformat_minor": 1
}
