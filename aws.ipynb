{
 "cells": [
  {
   "cell_type": "code",
   "execution_count": 31,
   "metadata": {},
   "outputs": [
    {
     "name": "stderr",
     "output_type": "stream",
     "text": [
      "[root:INFO]:starting (cellevents.py\\31, time=17:57)\n"
     ]
    },
    {
     "name": "stdout",
     "output_type": "stream",
     "text": [
      "time: 553 ms\n"
     ]
    }
   ],
   "source": [
    "from analysis.ipstartup import *\n",
    "import aws\n",
    "import fabric.api as fab\n",
    "import fabric\n",
    "\n",
    "fab.output['everything'] = False\n",
    "sm1 = aws.getRes(\"sm1\", aws.ec2.instances)\n",
    "fab.env.host_string = sm1.public_ip_address"
   ]
  },
  {
   "cell_type": "code",
   "execution_count": 69,
   "metadata": {},
   "outputs": [
    {
     "name": "stderr",
     "output_type": "stream",
     "text": [
      "[root:INFO]:starting (cellevents.py\\31, time=18:55)\n"
     ]
    },
    {
     "data": {
      "text/html": [
       "<div>\n",
       "<table border=\"1\" class=\"dataframe\">\n",
       "  <thead>\n",
       "    <tr style=\"text-align: right;\">\n",
       "      <th></th>\n",
       "      <th>name</th>\n",
       "      <th>instance_id</th>\n",
       "      <th>image</th>\n",
       "      <th>type</th>\n",
       "      <th>state</th>\n",
       "      <th>ip</th>\n",
       "    </tr>\n",
       "  </thead>\n",
       "  <tbody>\n",
       "    <tr>\n",
       "      <th>0</th>\n",
       "      <td>sm1</td>\n",
       "      <td>i-0fba41e915de786b3</td>\n",
       "      <td>ami-c51e3eb6</td>\n",
       "      <td>t2.micro</td>\n",
       "      <td>running</td>\n",
       "      <td>34.248.253.147</td>\n",
       "    </tr>\n",
       "  </tbody>\n",
       "</table>\n",
       "</div>"
      ],
      "text/plain": [
       "  name          instance_id         image      type    state              ip\n",
       "0  sm1  i-0fba41e915de786b3  ami-c51e3eb6  t2.micro  running  34.248.253.147"
      ]
     },
     "metadata": {},
     "output_type": "display_data"
    },
    {
     "name": "stdout",
     "output_type": "stream",
     "text": [
      "time: 563 ms\n"
     ]
    }
   ],
   "source": [
    "# show servers\n",
    "aws.show()"
   ]
  },
  {
   "cell_type": "code",
   "execution_count": 79,
   "metadata": {},
   "outputs": [
    {
     "name": "stderr",
     "output_type": "stream",
     "text": [
      "[root:INFO]:starting (cellevents.py\\31, time=16:18)\n"
     ]
    },
    {
     "name": "stdout",
     "output_type": "stream",
     "text": [
      "[34.248.253.147] run: mkdir basics || true\n",
      "[34.248.253.147] out: mkdir: cannot create directory ‘basics’: File exists\n",
      "[34.248.253.147] out: \n",
      "\n",
      "[localhost] local: git archive HEAD > basics.tar\n",
      "[34.248.253.147] put: C:\\Users\\s\\Documents\\py\\apps\\aws\\..\\basics\\basics.tar -> /home/ec2-user/basics.tar\n",
      "[34.248.253.147] run: tar xf basics.tar -C basics\n",
      "[34.248.253.147] run: rm basics.tar\n",
      "[34.248.253.147] run: mkdir analysis || true\n",
      "[34.248.253.147] out: mkdir: cannot create directory ‘analysis’: File exists\n",
      "[34.248.253.147] out: \n",
      "\n",
      "[localhost] local: git archive HEAD > analysis.tar\n",
      "[34.248.253.147] put: C:\\Users\\s\\Documents\\py\\apps\\aws\\..\\analysis\\analysis.tar -> /home/ec2-user/analysis.tar\n",
      "[34.248.253.147] run: tar xf analysis.tar -C analysis\n",
      "[34.248.253.147] run: rm analysis.tar\n",
      "[34.248.253.147] run: mkdir meetup || true\n",
      "[34.248.253.147] out: mkdir: cannot create directory ‘meetup’: File exists\n",
      "[34.248.253.147] out: \n",
      "\n",
      "[localhost] local: git archive HEAD > meetup.tar\n",
      "[34.248.253.147] put: C:\\Users\\s\\Documents\\py\\apps\\aws\\..\\meetup\\meetup.tar -> /home/ec2-user/meetup.tar\n",
      "[34.248.253.147] run: tar xf meetup.tar -C meetup\n",
      "[34.248.253.147] run: rm meetup.tar\n",
      "[34.248.253.147] put: C:\\Users\\s\\documents/py/apps/meetup\\_creds.py -> meetup/_creds.py\n",
      "[34.248.253.147] run: mkdir .jupyter || true\n",
      "[34.248.253.147] out: mkdir: cannot create directory ‘.jupyter’: File exists\n",
      "[34.248.253.147] out: \n",
      "\n",
      "[34.248.253.147] put: <file obj> -> .jupyter/jupyter_notebook_config.py\n",
      "time: 4.9 s\n"
     ]
    }
   ],
   "source": [
    "aws.install_projects()"
   ]
  },
  {
   "cell_type": "code",
   "execution_count": 83,
   "metadata": {},
   "outputs": [
    {
     "name": "stderr",
     "output_type": "stream",
     "text": [
      "[root:INFO]:starting (cellevents.py\\31, time=16:23)\n"
     ]
    },
    {
     "name": "stdout",
     "output_type": "stream",
     "text": [
      "[34.248.253.147] run: docker rm -f notebook || true\n",
      "[34.248.253.147] out: notebook\n",
      "[34.248.253.147] out: \n",
      "\n",
      "[34.248.253.147] run: docker run -v $PWD/.ssh:/root/.ssh -v $PWD/.jupyter:/root/.jupyter -v $PWD:/host -w=/host -p 8888:8888 -d -i --name notebook kaggle/python\n",
      "[34.248.253.147] out: 23201cb9fa25d661710d2ffdd84d42519abb332c7ce8bc2d59971b7a74d58671\n",
      "[34.248.253.147] out: \n",
      "\n",
      "[34.248.253.147] run: docker exec notebook python basics/pathconfig.py\n",
      "[34.248.253.147] out: [root:INFO]:starting (pathconfig.py\\10, time=16:23)\n",
      "[34.248.253.147] out: \n",
      "\n",
      "[34.248.253.147] run: docker exec -d notebook jupyter notebook\n",
      "time: 4.55 s\n"
     ]
    }
   ],
   "source": [
    "aws.restart_notebook()"
   ]
  },
  {
   "cell_type": "code",
   "execution_count": 84,
   "metadata": {},
   "outputs": [
    {
     "name": "stderr",
     "output_type": "stream",
     "text": [
      "[root:INFO]:starting (cellevents.py\\31, time=16:23)\n"
     ]
    },
    {
     "name": "stdout",
     "output_type": "stream",
     "text": [
      "[34.248.253.147] run: docker rm -f meetup || true\n",
      "[34.248.253.147] out: meetup\n",
      "[34.248.253.147] out: \n",
      "\n",
      "[34.248.253.147] run: docker run -v $PWD:/host -w=/host -d -i --name meetup kaggle/python\n",
      "[34.248.253.147] out: 08ca6a160cac4f6e6ca5694c8758ad1ad2825f9f36731b0909c62562be58335d\n",
      "[34.248.253.147] out: \n",
      "\n",
      "[34.248.253.147] run: docker exec meetup python basics/pathconfig.py\n",
      "[34.248.253.147] out: [root:INFO]:starting (pathconfig.py\\10, time=16:24)\n",
      "[34.248.253.147] out: \n",
      "\n",
      "[34.248.253.147] run: docker exec -d meetup python meetup/meetup.py\n",
      "time: 4.89 s\n"
     ]
    }
   ],
   "source": [
    "aws.restart_meetup()"
   ]
  },
  {
   "cell_type": "code",
   "execution_count": 71,
   "metadata": {},
   "outputs": [
    {
     "name": "stderr",
     "output_type": "stream",
     "text": [
      "[root:INFO]:starting (cellevents.py\\31, time=18:55)\n"
     ]
    },
    {
     "name": "stdout",
     "output_type": "stream",
     "text": [
      "{'meetup': ['python meetup/meetup.py'],\n",
      " 'notebook': ['/opt/conda/bin/python /opt/conda/bin/jupyter-notebook']}\n",
      "time: 455 ms\n"
     ]
    }
   ],
   "source": [
    "pprint(aws.gettasks())"
   ]
  }
 ],
 "metadata": {
  "kernelspec": {
   "display_name": "Python [default]",
   "language": "python",
   "name": "python3"
  },
  "language_info": {
   "codemirror_mode": {
    "name": "ipython",
    "version": 3
   },
   "file_extension": ".py",
   "mimetype": "text/x-python",
   "name": "python",
   "nbconvert_exporter": "python",
   "pygments_lexer": "ipython3",
   "version": "3.5.2"
  }
 },
 "nbformat": 4,
 "nbformat_minor": 1
}
