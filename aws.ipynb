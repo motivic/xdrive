{
 "cells": [
  {
   "cell_type": "code",
   "execution_count": 1,
   "metadata": {
    "collapsed": false
   },
   "outputs": [],
   "source": [
    "\"\"\"\n",
    "todo\n",
    "  capture shutdown signal\n",
    "  save model checkpoints\n",
    "\n",
    "boto3\n",
    "  tag dict format\n",
    "  cannot test isinstance(i, ec2.Instance)\n",
    "  detach_volume fails with no message\n",
    "  cannot queue commands e.g. detach and delete\n",
    "\"\"\"\n",
    "\n",
    "from analysis.ipstartup import *\n",
    "import aws\n",
    "import itools\n",
    "import apps\n",
    "from pdrive import Pdrive\n",
    "import fabric.api as fab\n",
    "fab.output['everything'] = True\n",
    "fab.env.host_string = aws.get_ips()[0]\n",
    "fab.env.user = \"ec2-user\""
   ]
  },
  {
   "cell_type": "code",
   "execution_count": 26,
   "metadata": {
    "collapsed": false
   },
   "outputs": [
    {
     "name": "stderr",
     "output_type": "stream",
     "text": [
      "[root:INFO]:starting (cellevents.py\\31, time=13:11)\n"
     ]
    },
    {
     "data": {
      "text/html": [
       "<div>\n",
       "<table border=\"1\" class=\"dataframe\">\n",
       "  <thead>\n",
       "    <tr style=\"text-align: right;\">\n",
       "      <th></th>\n",
       "      <th>name</th>\n",
       "      <th>instance_id</th>\n",
       "      <th>image</th>\n",
       "      <th>type</th>\n",
       "      <th>state</th>\n",
       "      <th>ip</th>\n",
       "    </tr>\n",
       "  </thead>\n",
       "  <tbody>\n",
       "    <tr>\n",
       "      <th>0</th>\n",
       "      <td>sm1</td>\n",
       "      <td>i-0e278aadbb0395c13</td>\n",
       "      <td>ami-c51e3eb6</td>\n",
       "      <td>t2.micro</td>\n",
       "      <td>running</td>\n",
       "      <td>34.248.84.101</td>\n",
       "    </tr>\n",
       "    <tr>\n",
       "      <th>1</th>\n",
       "      <td>gpu</td>\n",
       "      <td>i-0aa71506759a99b70</td>\n",
       "      <td>ami-c51e3eb6</td>\n",
       "      <td>p2.xlarge</td>\n",
       "      <td>running</td>\n",
       "      <td>34.249.72.158</td>\n",
       "    </tr>\n",
       "  </tbody>\n",
       "</table>\n",
       "</div>"
      ],
      "text/plain": [
       "  name          instance_id         image       type    state             ip\n",
       "0  sm1  i-0e278aadbb0395c13  ami-c51e3eb6   t2.micro  running  34.248.84.101\n",
       "1  gpu  i-0aa71506759a99b70  ami-c51e3eb6  p2.xlarge  running  34.249.72.158"
      ]
     },
     "execution_count": 26,
     "metadata": {},
     "output_type": "execute_result"
    },
    {
     "name": "stdout",
     "output_type": "stream",
     "text": [
      "time: 510 ms\n"
     ]
    }
   ],
   "source": [
    "aws.get_instances()"
   ]
  },
  {
   "cell_type": "code",
   "execution_count": 27,
   "metadata": {
    "collapsed": false
   },
   "outputs": [
    {
     "name": "stderr",
     "output_type": "stream",
     "text": [
      "[root:INFO]:starting (cellevents.py\\31, time=13:13)\n"
     ]
    },
    {
     "name": "stdout",
     "output_type": "stream",
     "text": [
      "[34.249.72.158] run: docker rm -f notebook || true\n",
      "[34.249.72.158] out: notebook\n",
      "[34.249.72.158] out: \n",
      "\n",
      "[34.249.72.158] sudo: docker run -v /v1:/root -v /v1:/host -w=/host -p 8888:8888 -d -i -u root --name notebook deeprig/fastai-course-1\n",
      "[34.249.72.158] out: eacb2c6ad34210019f0095cb1d6e34379d4f5b4550faa440c6ced327057d3b5f\n",
      "[34.249.72.158] out: \n",
      "\n",
      "[34.249.72.158] run: docker exec notebook python basics/pathconfig.py\n",
      "[34.249.72.158] out: [root:INFO]:starting (pathconfig.py\\10, time=13:13)\n",
      "[34.249.72.158] out: \n",
      "\n",
      "time: 9.55 s\n"
     ]
    }
   ],
   "source": [
    "# build server + pdrive (complete setup with free t2 then switch to gpu/spot)\n",
    "i = itools.create(\"gpu\", itype=\"gpu\", spot=True, pdrive=\"cats\")\n",
    "apps.set_docker_folder(\"/v1\")\n",
    "apps.restart_notebook()"
   ]
  },
  {
   "cell_type": "code",
   "execution_count": null,
   "metadata": {
    "collapsed": true
   },
   "outputs": [],
   "source": [
    "# one off setup\n",
    "1/0\n",
    "aws.create_key()\n",
    "aws.create_securityGroup()\n",
    "aws.client.allocate_address()"
   ]
  },
  {
   "cell_type": "code",
   "execution_count": 14,
   "metadata": {
    "collapsed": false
   },
   "outputs": [
    {
     "name": "stderr",
     "output_type": "stream",
     "text": [
      "[root:INFO]:starting (cellevents.py\\31, time=12:54)\n"
     ]
    },
    {
     "ename": "KeyError",
     "evalue": "0",
     "output_type": "error",
     "traceback": [
      "\u001b[0;31m---------------------------------------------------------------------------\u001b[0m",
      "\u001b[0;31mKeyError\u001b[0m                                  Traceback (most recent call last)",
      "\u001b[0;32m<ipython-input-14-b954a7da56e5>\u001b[0m in \u001b[0;36m<module>\u001b[0;34m()\u001b[0m\n\u001b[1;32m      1\u001b[0m \u001b[1;31m# build server + pdrive (complete setup with free t2 then switch to gpu/spot)\u001b[0m\u001b[1;33m\u001b[0m\u001b[1;33m\u001b[0m\u001b[0m\n\u001b[0;32m----> 2\u001b[0;31m \u001b[0mi\u001b[0m \u001b[1;33m=\u001b[0m \u001b[0mitools\u001b[0m\u001b[1;33m.\u001b[0m\u001b[0mcreate\u001b[0m\u001b[1;33m(\u001b[0m\u001b[1;34m\"gpu\"\u001b[0m\u001b[1;33m,\u001b[0m \u001b[0mitype\u001b[0m\u001b[1;33m=\u001b[0m\u001b[1;34m\"gpu\"\u001b[0m\u001b[1;33m,\u001b[0m \u001b[0mspot\u001b[0m\u001b[1;33m=\u001b[0m\u001b[1;32mTrue\u001b[0m\u001b[1;33m,\u001b[0m \u001b[0mpdrive\u001b[0m\u001b[1;33m=\u001b[0m\u001b[1;34m\"cats\"\u001b[0m\u001b[1;33m)\u001b[0m\u001b[1;33m\u001b[0m\u001b[0m\n\u001b[0m",
      "\u001b[0;32mC:\\Users\\s\\Documents\\py\\apps\\aws\\itools.py\u001b[0m in \u001b[0;36mcreate\u001b[0;34m(name, bootsize, itype, spot, pdrive, pdrivesize)\u001b[0m\n\u001b[1;32m     75\u001b[0m     \u001b[1;31m# spot or on-demand\u001b[0m\u001b[1;33m\u001b[0m\u001b[1;33m\u001b[0m\u001b[0m\n\u001b[1;32m     76\u001b[0m     \u001b[1;32mif\u001b[0m \u001b[0mspot\u001b[0m\u001b[1;33m:\u001b[0m\u001b[1;33m\u001b[0m\u001b[0m\n\u001b[0;32m---> 77\u001b[0;31m         \u001b[0minstance\u001b[0m \u001b[1;33m=\u001b[0m \u001b[0mcreate_spot\u001b[0m\u001b[1;33m(\u001b[0m\u001b[0mspec\u001b[0m\u001b[1;33m)\u001b[0m\u001b[1;33m\u001b[0m\u001b[0m\n\u001b[0m\u001b[1;32m     78\u001b[0m     \u001b[1;32melse\u001b[0m\u001b[1;33m:\u001b[0m\u001b[1;33m\u001b[0m\u001b[0m\n\u001b[1;32m     79\u001b[0m         \u001b[0minstance\u001b[0m \u001b[1;33m=\u001b[0m \u001b[0maws\u001b[0m\u001b[1;33m.\u001b[0m\u001b[0mec2\u001b[0m\u001b[1;33m.\u001b[0m\u001b[0mcreate_instances\u001b[0m\u001b[1;33m(\u001b[0m\u001b[1;33m**\u001b[0m\u001b[0mspec\u001b[0m\u001b[1;33m)\u001b[0m\u001b[1;33m[\u001b[0m\u001b[1;36m0\u001b[0m\u001b[1;33m]\u001b[0m\u001b[1;33m\u001b[0m\u001b[0m\n",
      "\u001b[0;32mC:\\Users\\s\\Documents\\py\\apps\\aws\\itools.py\u001b[0m in \u001b[0;36mcreate_spot\u001b[0;34m(spec)\u001b[0m\n\u001b[1;32m    123\u001b[0m                      \u001b[0mSpotPrice\u001b[0m\u001b[1;33m=\u001b[0m\u001b[0mspotprice\u001b[0m\u001b[1;33m,\u001b[0m\u001b[1;33m\u001b[0m\u001b[0m\n\u001b[1;32m    124\u001b[0m                      LaunchSpecification=spec) \\\n\u001b[0;32m--> 125\u001b[0;31m                     \u001b[1;33m[\u001b[0m\u001b[1;36m0\u001b[0m\u001b[1;33m]\u001b[0m\u001b[1;33m[\u001b[0m\u001b[1;34m'SpotInstanceRequestId'\u001b[0m\u001b[1;33m]\u001b[0m\u001b[1;33m\u001b[0m\u001b[0m\n\u001b[0m\u001b[1;32m    126\u001b[0m     \u001b[0mlog\u001b[0m\u001b[1;33m.\u001b[0m\u001b[0minfo\u001b[0m\u001b[1;33m(\u001b[0m\u001b[1;34m\"spot request submitted\"\u001b[0m\u001b[1;33m)\u001b[0m\u001b[1;33m\u001b[0m\u001b[0m\n\u001b[1;32m    127\u001b[0m \u001b[1;33m\u001b[0m\u001b[0m\n",
      "\u001b[0;31mKeyError\u001b[0m: 0"
     ]
    },
    {
     "name": "stdout",
     "output_type": "stream",
     "text": [
      "time: 1.81 s\n"
     ]
    }
   ],
   "source": []
  },
  {
   "cell_type": "code",
   "execution_count": 17,
   "metadata": {
    "collapsed": false
   },
   "outputs": [
    {
     "name": "stderr",
     "output_type": "stream",
     "text": [
      "[root:INFO]:starting (cellevents.py\\31, time=13:04)\n"
     ]
    },
    {
     "ename": "ImportError",
     "evalue": "No module named 'EC2'",
     "output_type": "error",
     "traceback": [
      "\u001b[0;31m---------------------------------------------------------------------------\u001b[0m",
      "\u001b[0;31mImportError\u001b[0m                               Traceback (most recent call last)",
      "\u001b[0;32m<ipython-input-17-c5731e3a9865>\u001b[0m in \u001b[0;36m<module>\u001b[0;34m()\u001b[0m\n\u001b[0;32m----> 1\u001b[0;31m \u001b[1;32mimport\u001b[0m \u001b[0mEC2\u001b[0m\u001b[1;33m\u001b[0m\u001b[0m\n\u001b[0m\u001b[1;32m      2\u001b[0m \u001b[0meC2\u001b[0m\u001b[1;33m.\u001b[0m\u001b[0mWaiter\u001b[0m\u001b[1;33m.\u001b[0m\u001b[0mSpotInstanceRequestFulfilled\u001b[0m\u001b[1;33m\u001b[0m\u001b[0m\n",
      "\u001b[0;31mImportError\u001b[0m: No module named 'EC2'"
     ]
    },
    {
     "name": "stdout",
     "output_type": "stream",
     "text": [
      "time: 23 ms\n"
     ]
    }
   ],
   "source": [
    "import EC2\n",
    "eC2.Waiter.SpotInstanceRequestFulfilled"
   ]
  },
  {
   "cell_type": "code",
   "execution_count": 25,
   "metadata": {
    "collapsed": false,
    "scrolled": true
   },
   "outputs": [
    {
     "name": "stderr",
     "output_type": "stream",
     "text": [
      "[root:INFO]:starting (cellevents.py\\31, time=13:11)\n"
     ]
    },
    {
     "name": "stdout",
     "output_type": "stream",
     "text": [
      "[34.249.72.158] sudo: mkdir -p /etc/docker\n",
      "[34.249.72.158] put: docker/daemon.json -> /etc/docker/daemon.json\n",
      "[34.249.72.158] sudo: mkdir -p /v1/docker\n",
      "[34.249.72.158] sudo: service docker start\n",
      "[34.249.72.158] out: Starting docker:\t.\u001b[60G[\u001b[0;32m  OK  \u001b[0;39m]\n",
      "[34.249.72.158] out: \n",
      "[34.249.72.158] out: \n",
      "\n",
      "time: 3.17 s\n"
     ]
    }
   ],
   "source": [
    "apps.set_docker_folder(\"/v1\")"
   ]
  },
  {
   "cell_type": "code",
   "execution_count": null,
   "metadata": {
    "collapsed": false
   },
   "outputs": [],
   "source": [
    "apps.restart_notebook()"
   ]
  },
  {
   "cell_type": "code",
   "execution_count": 45,
   "metadata": {
    "collapsed": false
   },
   "outputs": [
    {
     "name": "stderr",
     "output_type": "stream",
     "text": [
      "[root:INFO]:starting (cellevents.py\\31, time=19:10)\n"
     ]
    },
    {
     "name": "stdout",
     "output_type": "stream",
     "text": [
      "[34.248.84.101] run: if cd basics; then git pull; else git clone https://github.com/simonm3/basics.git basics; fi\n",
      "[34.248.84.101] out: Already up-to-date.\n",
      "[34.248.84.101] out: \n",
      "\n",
      "[34.248.84.101] put: C:\\Users\\s\\Documents\\py\\apps\\aws\\..\\basics\\_creds.py -> basics/_creds.py\n",
      "[34.248.84.101] run: if cd meetup; then git pull; else git clone https://github.com/simonm3/meetup.git meetup; fi\n",
      "[34.248.84.101] out: remote: Counting objects: 3, done.\u001b[K\n",
      "[34.248.84.101] out: remote: Compressing objects:  50% (1/2)   \u001b[K\n",
      "[34.248.84.101] out: remote: Compressing objects: 100% (2/2)   \u001b[K\n",
      "[34.248.84.101] out: remote: Compressing objects: 100% (2/2), done.\u001b[K\n",
      "[34.248.84.101] out: remote: Total 3 (delta 1), reused 3 (delta 1), pack-reused 0\u001b[K\n",
      "[34.248.84.101] out: Unpacking objects:  33% (1/3)   \n",
      "[34.248.84.101] out: Unpacking objects:  66% (2/3)   \n",
      "[34.248.84.101] out: Unpacking objects: 100% (3/3)   \n",
      "[34.248.84.101] out: Unpacking objects: 100% (3/3), done.\n",
      "[34.248.84.101] out: From https://github.com/simonm3/meetup\n",
      "[34.248.84.101] out:    0e8fcbd..77f1b2c  master     -> origin/master\n",
      "[34.248.84.101] out: Updating 0e8fcbd..77f1b2c\n",
      "[34.248.84.101] out: Fast-forward\n",
      "[34.248.84.101] out:  meetup.py | 2 \u001b[32m+\u001b[m\u001b[31m-\u001b[m\n",
      "[34.248.84.101] out:  1 file changed, 1 insertion(+), 1 deletion(-)\n",
      "[34.248.84.101] out: \n",
      "\n",
      "[34.248.84.101] put: C:\\Users\\s\\Documents\\py\\apps\\aws\\..\\meetup\\_creds.py -> meetup/_creds.py\n",
      "[34.248.84.101] run: if cd analysis; then git pull; else git clone https://github.com/simonm3/analysis.git analysis; fi\n",
      "[34.248.84.101] out: Already up-to-date.\n",
      "[34.248.84.101] out: \n",
      "\n",
      "time: 3.79 s\n"
     ]
    }
   ],
   "source": [
    "apps.install_github(\"simonm3\", [\"basics\", \"meetup\", \"analysis\"])"
   ]
  },
  {
   "cell_type": "code",
   "execution_count": null,
   "metadata": {
    "collapsed": false
   },
   "outputs": [],
   "source": [
    "fab.output['everything'] = True\n",
    "apps.restart_notebook()"
   ]
  },
  {
   "cell_type": "code",
   "execution_count": null,
   "metadata": {
    "collapsed": false
   },
   "outputs": [],
   "source": [
    "i = getResource(\"sm1\")\n",
    "i.public_ip_address"
   ]
  },
  {
   "cell_type": "code",
   "execution_count": 46,
   "metadata": {
    "collapsed": false
   },
   "outputs": [
    {
     "name": "stderr",
     "output_type": "stream",
     "text": [
      "[root:INFO]:starting (cellevents.py\\31, time=19:10)\n"
     ]
    },
    {
     "name": "stdout",
     "output_type": "stream",
     "text": [
      "[34.248.84.101] run: docker exec meetup ps -eo args | grep python || true\n",
      "[34.248.84.101] out: python3\n",
      "[34.248.84.101] out: \n",
      "\n",
      "[34.248.84.101] run: docker exec wordpress_wordpress_1 ps -eo args | grep python || true\n",
      "[34.248.84.101] run: docker exec wordpress_db_1 ps -eo args | grep python || true\n"
     ]
    },
    {
     "data": {
      "text/html": [
       "<div>\n",
       "<table border=\"1\" class=\"dataframe\">\n",
       "  <thead>\n",
       "    <tr style=\"text-align: right;\">\n",
       "      <th></th>\n",
       "      <th>container</th>\n",
       "      <th>task</th>\n",
       "    </tr>\n",
       "  </thead>\n",
       "  <tbody>\n",
       "    <tr>\n",
       "      <th>0</th>\n",
       "      <td>meetup</td>\n",
       "      <td>python3</td>\n",
       "    </tr>\n",
       "  </tbody>\n",
       "</table>\n",
       "</div>"
      ],
      "text/plain": [
       "  container     task\n",
       "0    meetup  python3"
      ]
     },
     "execution_count": 46,
     "metadata": {},
     "output_type": "execute_result"
    },
    {
     "name": "stdout",
     "output_type": "stream",
     "text": [
      "time: 653 ms\n"
     ]
    }
   ],
   "source": [
    "itools.get_tasks()"
   ]
  },
  {
   "cell_type": "code",
   "execution_count": null,
   "metadata": {
    "collapsed": false
   },
   "outputs": [],
   "source": [
    "import boto3\n",
    "s3=boto3.resource(\"s3\")\n",
    "s3.create_bucket(Bucket=\"simonm3\")\n",
    "for a in s3.buckets.all():\n",
    "    print(a)"
   ]
  },
  {
   "cell_type": "code",
   "execution_count": null,
   "metadata": {
    "collapsed": false
   },
   "outputs": [],
   "source": [
    "for a in s3.Bucket('simonm3').objects.all():\n",
    "    print(a.bucket_name, a.key)"
   ]
  },
  {
   "cell_type": "code",
   "execution_count": null,
   "metadata": {
    "collapsed": false
   },
   "outputs": [],
   "source": [
    "s3a = s3.Bucket('simonm3')\n",
    "s3a.put_object(Key='test2.txt', Body=\"just testing2\")\n",
    "#s3a.download_file(Key=\"test.txt\", Filename=\"temp\")"
   ]
  }
 ],
 "metadata": {
  "anaconda-cloud": {},
  "kernelspec": {
   "display_name": "Python [default]",
   "language": "python",
   "name": "python3"
  },
  "language_info": {
   "codemirror_mode": {
    "name": "ipython",
    "version": 3
   },
   "file_extension": ".py",
   "mimetype": "text/x-python",
   "name": "python",
   "nbconvert_exporter": "python",
   "pygments_lexer": "ipython3",
   "version": "3.5.2"
  }
 },
 "nbformat": 4,
 "nbformat_minor": 1
}
