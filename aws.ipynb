{
 "cells": [
  {
   "cell_type": "code",
   "execution_count": 71,
   "metadata": {},
   "outputs": [
    {
     "name": "stderr",
     "output_type": "stream",
     "text": [
      "[root:INFO]:starting (cellevents.py\\31, time=16:42)\n"
     ]
    },
    {
     "name": "stdout",
     "output_type": "stream",
     "text": [
      "time: 772 ms\n"
     ]
    }
   ],
   "source": [
    "from analysis.ipstartup import *\n",
    "import aws\n",
    "import docker\n",
    "import fabric.api as fab\n",
    "import fabric\n",
    "\n",
    "fab.output['everything'] = False\n",
    "sm1 = aws.getRes(\"sm1\", aws.ec2.instances)\n",
    "fab.env.host_string = sm1.public_ip_address"
   ]
  },
  {
   "cell_type": "code",
   "execution_count": 76,
   "metadata": {},
   "outputs": [
    {
     "name": "stderr",
     "output_type": "stream",
     "text": [
      "[root:INFO]:starting (cellevents.py\\31, time=18:50)\n"
     ]
    },
    {
     "data": {
      "text/html": [
       "<div>\n",
       "<table border=\"1\" class=\"dataframe\">\n",
       "  <thead>\n",
       "    <tr style=\"text-align: right;\">\n",
       "      <th></th>\n",
       "      <th>name</th>\n",
       "      <th>instance_id</th>\n",
       "      <th>image</th>\n",
       "      <th>type</th>\n",
       "      <th>state</th>\n",
       "      <th>ip</th>\n",
       "    </tr>\n",
       "  </thead>\n",
       "  <tbody>\n",
       "    <tr>\n",
       "      <th>0</th>\n",
       "      <td>sm1</td>\n",
       "      <td>i-0fba41e915de786b3</td>\n",
       "      <td>ami-c51e3eb6</td>\n",
       "      <td>t2.micro</td>\n",
       "      <td>running</td>\n",
       "      <td>34.248.84.101</td>\n",
       "    </tr>\n",
       "  </tbody>\n",
       "</table>\n",
       "</div>"
      ],
      "text/plain": [
       "  name          instance_id         image      type    state             ip\n",
       "0  sm1  i-0fba41e915de786b3  ami-c51e3eb6  t2.micro  running  34.248.84.101"
      ]
     },
     "metadata": {},
     "output_type": "display_data"
    },
    {
     "name": "stdout",
     "output_type": "stream",
     "text": [
      "time: 918 ms\n"
     ]
    }
   ],
   "source": [
    "aws.show()"
   ]
  },
  {
   "cell_type": "code",
   "execution_count": 93,
   "metadata": {},
   "outputs": [
    {
     "name": "stderr",
     "output_type": "stream",
     "text": [
      "[root:INFO]:starting (cellevents.py\\31, time=20:55)\n"
     ]
    },
    {
     "name": "stdout",
     "output_type": "stream",
     "text": [
      "[34.248.253.147] sudo: rm -r basics\n",
      "[34.248.253.147] sudo: rm -r analysis\n",
      "[34.248.253.147] sudo: rm -r meetup\n",
      "[34.248.253.147] run: mkdir basics || true\n",
      "[localhost] local: git archive HEAD > basics.tar\n",
      "[34.248.253.147] put: C:\\Users\\s\\Documents\\py\\apps\\aws\\..\\basics\\basics.tar -> /home/ec2-user/basics.tar\n",
      "[34.248.253.147] run: tar xf basics.tar -C basics\n",
      "[34.248.253.147] run: rm basics.tar\n",
      "[34.248.253.147] run: mkdir analysis || true\n",
      "[localhost] local: git archive HEAD > analysis.tar\n",
      "[34.248.253.147] put: C:\\Users\\s\\Documents\\py\\apps\\aws\\..\\analysis\\analysis.tar -> /home/ec2-user/analysis.tar\n",
      "[34.248.253.147] run: tar xf analysis.tar -C analysis\n",
      "[34.248.253.147] run: rm analysis.tar\n",
      "[34.248.253.147] run: mkdir meetup || true\n",
      "[localhost] local: git archive HEAD > meetup.tar\n",
      "[34.248.253.147] put: C:\\Users\\s\\Documents\\py\\apps\\aws\\..\\meetup\\meetup.tar -> /home/ec2-user/meetup.tar\n",
      "[34.248.253.147] run: tar xf meetup.tar -C meetup\n",
      "[34.248.253.147] run: rm meetup.tar\n",
      "[34.248.253.147] put: C:\\Users\\s\\Documents\\py\\apps\\aws\\..\\meetup\\_creds.py -> meetup/_creds.py\n",
      "time: 3.33 s\n"
     ]
    }
   ],
   "source": [
    "aws.install_projects()"
   ]
  },
  {
   "cell_type": "code",
   "execution_count": 95,
   "metadata": {},
   "outputs": [
    {
     "name": "stderr",
     "output_type": "stream",
     "text": [
      "[root:INFO]:starting (cellevents.py\\31, time=20:58)\n"
     ]
    },
    {
     "name": "stdout",
     "output_type": "stream",
     "text": [
      "[34.248.253.147] run: docker rm -f notebook || true\n",
      "[34.248.253.147] out: notebook\n",
      "[34.248.253.147] out: \n",
      "\n",
      "[34.248.253.147] run: docker run -v $PWD/.ssh:/root/.ssh -v $PWD/.jupyter:/root/.jupyter -v $PWD:/host -w=/host -p 8888:8888 -d -i --name notebook kaggle/python\n",
      "[34.248.253.147] out: e525fcbd0f188a246ddf581aa1faae2801d8ddc173b2cd59b52169edbbbaf77e\n",
      "[34.248.253.147] out: \n",
      "\n",
      "[34.248.253.147] run: docker exec notebook python basics/pathconfig.py >/dev/null\n",
      "[34.248.253.147] out: [root:INFO]:starting (pathconfig.py\\10, time=20:58)\n",
      "[34.248.253.147] out: \n",
      "\n",
      "[34.248.253.147] run: docker exec -d notebook jupyter notebook\n",
      "time: 3.33 s\n"
     ]
    }
   ],
   "source": [
    "aws.restart_notebook()"
   ]
  },
  {
   "cell_type": "code",
   "execution_count": 34,
   "metadata": {},
   "outputs": [
    {
     "name": "stderr",
     "output_type": "stream",
     "text": [
      "[root:INFO]:starting (cellevents.py\\31, time=15:07)\n"
     ]
    },
    {
     "name": "stdout",
     "output_type": "stream",
     "text": [
      "[34.248.84.101] run: docker rm -f meetup || true\n",
      "[34.248.84.101] out: Error response from daemon: No such container: meetup\n",
      "[34.248.84.101] out: \n",
      "\n",
      "[34.248.84.101] run: docker run -v $PWD:/host -w=/host -d -i --name meetup kaggle/python\n",
      "[34.248.84.101] out: 5e7dce4701e0fa0d662da2f8d2d2307a31e7038d8b597717d385358d44a0d647\n",
      "[34.248.84.101] out: \n",
      "\n",
      "[34.248.84.101] run: docker exec meetup python basics/pathconfig.py\n",
      "[34.248.84.101] out: [root:INFO]:starting (pathconfig.py\\10, time=15:07)\n",
      "[34.248.84.101] out: \n",
      "\n",
      "[34.248.84.101] run: docker exec -d meetup python meetup/meetup.py\n",
      "time: 1.15 s\n"
     ]
    }
   ],
   "source": [
    "docker.restart_meetup()"
   ]
  },
  {
   "cell_type": "code",
   "execution_count": 13,
   "metadata": {},
   "outputs": [
    {
     "name": "stderr",
     "output_type": "stream",
     "text": [
      "[root:INFO]:starting (cellevents.py\\31, time=14:50)\n"
     ]
    },
    {
     "name": "stdout",
     "output_type": "stream",
     "text": [
      "[34.248.84.101] run: docker inspect --format='{{.Name}}' $(docker ps -q)\n",
      "[34.248.84.101] out: /wordpress_wordpress_1\n",
      "[34.248.84.101] out: /wordpress_db_1\n",
      "[34.248.84.101] out: /notebook\n",
      "[34.248.84.101] out: /meetup\n",
      "[34.248.84.101] out: \n",
      "\n"
     ]
    },
    {
     "data": {
      "text/plain": [
       "'/wordpress_wordpress_1\\r\\n/wordpress_db_1\\r\\n/notebook\\r\\n/meetup'"
      ]
     },
     "execution_count": 13,
     "metadata": {},
     "output_type": "execute_result"
    },
    {
     "name": "stdout",
     "output_type": "stream",
     "text": [
      "time: 119 ms\n"
     ]
    }
   ],
   "source": [
    "fab.run(\"docker inspect --format='{{.Name}}' $(docker ps -q)\")"
   ]
  },
  {
   "cell_type": "code",
   "execution_count": 63,
   "metadata": {},
   "outputs": [
    {
     "name": "stderr",
     "output_type": "stream",
     "text": [
      "[root:INFO]:starting (cellevents.py\\31, time=16:15)\n"
     ]
    },
    {
     "data": {
      "text/html": [
       "<div>\n",
       "<table border=\"1\" class=\"dataframe\">\n",
       "  <thead>\n",
       "    <tr style=\"text-align: right;\">\n",
       "      <th></th>\n",
       "      <th>container</th>\n",
       "      <th>task</th>\n",
       "    </tr>\n",
       "  </thead>\n",
       "  <tbody>\n",
       "    <tr>\n",
       "      <th>0</th>\n",
       "      <td>meetup</td>\n",
       "      <td>python meetup/meetup.py</td>\n",
       "    </tr>\n",
       "    <tr>\n",
       "      <th>1</th>\n",
       "      <td>notebook</td>\n",
       "      <td>/opt/conda/bin/python /opt/conda/bin/jupyter-notebook</td>\n",
       "    </tr>\n",
       "  </tbody>\n",
       "</table>\n",
       "</div>"
      ],
      "text/plain": [
       "  container                                                   task\n",
       "0    meetup                                python meetup/meetup.py\n",
       "1  notebook  /opt/conda/bin/python /opt/conda/bin/jupyter-notebook"
      ]
     },
     "metadata": {},
     "output_type": "display_data"
    },
    {
     "name": "stdout",
     "output_type": "stream",
     "text": [
      "time: 839 ms\n"
     ]
    }
   ],
   "source": [
    "d(docker.gettasks(\"python\"))"
   ]
  },
  {
   "cell_type": "code",
   "execution_count": 4,
   "metadata": {},
   "outputs": [
    {
     "name": "stderr",
     "output_type": "stream",
     "text": [
      "[root:INFO]:starting (cellevents.py\\31, time=14:06)\n"
     ]
    },
    {
     "name": "stdout",
     "output_type": "stream",
     "text": [
      "s3.Bucket(name='simonm3')\n",
      "time: 1.4 s\n"
     ]
    }
   ],
   "source": [
    "import boto3\n",
    "s3=boto3.resource(\"s3\")\n",
    "s3.create_bucket(Bucket=\"simonm3\")\n",
    "for a in s3.buckets.all():\n",
    "    print(a)"
   ]
  },
  {
   "cell_type": "code",
   "execution_count": 33,
   "metadata": {},
   "outputs": [
    {
     "name": "stderr",
     "output_type": "stream",
     "text": [
      "[root:INFO]:starting (cellevents.py\\31, time=14:16)\n"
     ]
    },
    {
     "name": "stdout",
     "output_type": "stream",
     "text": [
      "simonm3 test.txt\n",
      "simonm3 test2.txt\n",
      "time: 411 ms\n"
     ]
    }
   ],
   "source": [
    "for a in s3.Bucket('simonm3').objects.all():\n",
    "    print(a.bucket_name, a.key)"
   ]
  },
  {
   "cell_type": "code",
   "execution_count": 20,
   "metadata": {},
   "outputs": [
    {
     "name": "stderr",
     "output_type": "stream",
     "text": [
      "[root:INFO]:starting (cellevents.py\\31, time=14:13)\n"
     ]
    },
    {
     "data": {
      "text/plain": [
       "s3.Object(bucket_name='simonm3', key='test2.txt')"
      ]
     },
     "execution_count": 20,
     "metadata": {},
     "output_type": "execute_result"
    },
    {
     "name": "stdout",
     "output_type": "stream",
     "text": [
      "time: 477 ms\n"
     ]
    }
   ],
   "source": [
    "s3a = s3.Bucket('simonm3')\n",
    "s3a.put_object(Key='test2.txt', Body=\"just testing2\")\n",
    "#s3a.download_file(Key=\"test.txt\", Filename=\"temp\")"
   ]
  }
 ],
 "metadata": {
  "kernelspec": {
   "display_name": "Python [default]",
   "language": "python",
   "name": "python3"
  },
  "language_info": {
   "codemirror_mode": {
    "name": "ipython",
    "version": 3
   },
   "file_extension": ".py",
   "mimetype": "text/x-python",
   "name": "python",
   "nbconvert_exporter": "python",
   "pygments_lexer": "ipython3",
   "version": "3.5.2"
  }
 },
 "nbformat": 4,
 "nbformat_minor": 1
}
